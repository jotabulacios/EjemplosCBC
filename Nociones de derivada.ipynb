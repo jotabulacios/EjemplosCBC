{
 "cells": [
  {
   "cell_type": "code",
   "execution_count": 1,
   "id": "3528e5ba",
   "metadata": {},
   "outputs": [
    {
     "data": {
      "text/html": [
       "<script>\n",
       "// Immediately-invoked-function-expression to avoid global variables.\n",
       "(function() {\n",
       "    var warning_div = document.getElementById(\"webio-warning-6302056307730702902\");\n",
       "    var hide = function () {\n",
       "        var script = document.getElementById(\"webio-setup-17935032191650798333\");\n",
       "        var parent = script && script.parentElement;\n",
       "        var grandparent = parent && parent.parentElement;\n",
       "        if (grandparent) {\n",
       "            grandparent.style.display = \"none\";\n",
       "        }\n",
       "        warning_div.style.display = \"none\";\n",
       "    };\n",
       "    if (typeof Jupyter !== \"undefined\") {\n",
       "        console.log(\"WebIO detected Jupyter notebook environment.\");\n",
       "        // Jupyter notebook.\n",
       "        var extensions = (\n",
       "            Jupyter\n",
       "            && Jupyter.notebook.config.data\n",
       "            && Jupyter.notebook.config.data.load_extensions\n",
       "        );\n",
       "        if (extensions && extensions[\"webio-jupyter-notebook\"]) {\n",
       "            // Extension already loaded.\n",
       "            console.log(\"Jupyter WebIO nbextension detected; not loading ad-hoc.\");\n",
       "            hide();\n",
       "            return;\n",
       "        }\n",
       "    } else if (window.location.pathname.includes(\"/lab\")) {\n",
       "        // Guessing JupyterLa\n",
       "        console.log(\"Jupyter Lab detected; make sure the @webio/jupyter-lab-provider labextension is installed.\");\n",
       "        hide();\n",
       "        return;\n",
       "    }\n",
       "})();\n",
       "\n",
       "</script>\n",
       "<p\n",
       "    id=\"webio-warning-6302056307730702902\"\n",
       "    class=\"output_text output_stderr\"\n",
       "    style=\"padding: 1em; font-weight: bold;\"\n",
       ">\n",
       "    Unable to load WebIO. Please make sure WebIO works for your Jupyter client.\n",
       "    For troubleshooting, please see <a href=\"https://juliagizmos.github.io/WebIO.jl/latest/providers/ijulia/\">\n",
       "    the WebIO/IJulia documentation</a>.\n",
       "    <!-- TODO: link to installation docs. -->\n",
       "</p>\n"
      ],
      "text/plain": [
       "HTML{String}(\"<script>\\n// Immediately-invoked-function-expression to avoid global variables.\\n(function() {\\n    var warning_div = document.getElementById(\\\"webio-warning-6302056307730702902\\\");\\n    var hide = function () {\\n        var script = document.getElementById(\\\"webio-setup-17935032191650798333\\\");\\n        var parent = script && script.parentElement;\\n        var grandparent = parent && parent.parentElement;\\n        if (grandparent) {\\n            grandparent.style.display = \\\"none\\\";\\n        }\\n        warning_div.style.display = \\\"none\\\";\\n    };\\n    if (typeof Jupyter !== \\\"undefined\\\") {\\n        console.log(\\\"WebIO detected Jupyter notebook environment.\\\");\\n        // Jupyter notebook.\\n        var extensions = (\\n            Jupyter\\n            && Jupyter.notebook.config.data\\n            && Jupyter.notebook.config.data.load_extensions\\n        );\\n        if (extensions && extensions[\\\"webio-jupyter-notebook\\\"]) {\\n            // Extension already loaded.\\n            console.log(\\\"Jupyter WebIO nbextension detected; not loading ad-hoc.\\\");\\n            hide();\\n            return;\\n        }\\n    } else if (window.location.pathname.includes(\\\"/lab\\\")) {\\n        // Guessing JupyterLa\\n        console.log(\\\"Jupyter Lab detected; make sure the @webio/jupyter-lab-provider labextension is installed.\\\");\\n        hide();\\n        return;\\n    }\\n})();\\n\\n</script>\\n<p\\n    id=\\\"webio-warning-6302056307730702902\\\"\\n    class=\\\"output_text output_stderr\\\"\\n    style=\\\"padding: 1em; font-weight: bold;\\\"\\n>\\n    Unable to load WebIO. Please make sure WebIO works for your Jupyter client.\\n    For troubleshooting, please see <a href=\\\"https://juliagizmos.github.io/WebIO.jl/latest/providers/ijulia/\\\">\\n    the WebIO/IJulia documentation</a>.\\n    <!-- TODO: link to installation docs. -->\\n</p>\\n\")"
      ]
     },
     "metadata": {},
     "output_type": "display_data"
    },
    {
     "name": "stderr",
     "output_type": "stream",
     "text": [
      "┌ Info: For saving to png with the Plotly backend PlotlyBase has to be installed.\n",
      "└ @ Plots /home/jotape/.julia/packages/Plots/YicDu/src/backends.jl:372\n"
     ]
    },
    {
     "data": {
      "text/plain": [
       "Plots.PlotlyBackend()"
      ]
     },
     "execution_count": 1,
     "metadata": {},
     "output_type": "execute_result"
    }
   ],
   "source": [
    "using Interact\n",
    "using Plots\n",
    "plotly()"
   ]
  },
  {
   "cell_type": "code",
   "execution_count": 2,
   "id": "dd06a149",
   "metadata": {},
   "outputs": [],
   "source": [
    "using ForwardDiff"
   ]
  },
  {
   "cell_type": "code",
   "execution_count": 5,
   "id": "21d3ecce",
   "metadata": {},
   "outputs": [
    {
     "data": {
      "application/vnd.webio.node+json": {
       "children": [
        {
         "children": [
          {
           "children": [
            {
             "children": [
              {
               "children": [
                {
                 "children": [
                  "n"
                 ],
                 "instanceArgs": {
                  "namespace": "html",
                  "tag": "label"
                 },
                 "nodeType": "DOM",
                 "props": {
                  "className": "interact ",
                  "style": {
                   "padding": "5px 10px 0px 10px"
                  }
                 },
                 "type": "node"
                }
               ],
               "instanceArgs": {
                "namespace": "html",
                "tag": "div"
               },
               "nodeType": "DOM",
               "props": {
                "className": "interact-flex-row-left"
               },
               "type": "node"
              },
              {
               "children": [
                {
                 "children": [],
                 "instanceArgs": {
                  "namespace": "html",
                  "tag": "input"
                 },
                 "nodeType": "DOM",
                 "props": {
                  "attributes": {
                   "data-bind": "numericValue: index, valueUpdate: 'input', event: {change: function (){this.changes(this.changes()+1)}}",
                   "orient": "horizontal",
                   "type": "range"
                  },
                  "className": "slider slider is-fullwidth",
                  "max": 15,
                  "min": 1,
                  "step": 1,
                  "style": {}
                 },
                 "type": "node"
                }
               ],
               "instanceArgs": {
                "namespace": "html",
                "tag": "div"
               },
               "nodeType": "DOM",
               "props": {
                "className": "interact-flex-row-center"
               },
               "type": "node"
              },
              {
               "children": [
                {
                 "children": [],
                 "instanceArgs": {
                  "namespace": "html",
                  "tag": "p"
                 },
                 "nodeType": "DOM",
                 "props": {
                  "attributes": {
                   "data-bind": "text: formatted_val"
                  }
                 },
                 "type": "node"
                }
               ],
               "instanceArgs": {
                "namespace": "html",
                "tag": "div"
               },
               "nodeType": "DOM",
               "props": {
                "className": "interact-flex-row-right"
               },
               "type": "node"
              }
             ],
             "instanceArgs": {
              "namespace": "html",
              "tag": "div"
             },
             "nodeType": "DOM",
             "props": {
              "className": "interact-flex-row interact-widget"
             },
             "type": "node"
            }
           ],
           "instanceArgs": {
            "handlers": {
             "changes": [
              "(function (val){return (val!=this.model[\"changes\"]()) ? (this.valueFromJulia[\"changes\"]=true, this.model[\"changes\"](val)) : undefined})"
             ],
             "index": [
              "(function (val){return (val!=this.model[\"index\"]()) ? (this.valueFromJulia[\"index\"]=true, this.model[\"index\"](val)) : undefined})"
             ]
            },
            "id": "14022254113807661544",
            "imports": {
             "data": [
              {
               "name": "knockout",
               "type": "js",
               "url": "/assetserver/a963c1b8a7754895043656177cb77e7b7fec989e-knockout.js"
              },
              {
               "name": "knockout_punches",
               "type": "js",
               "url": "/assetserver/d3553359b4c867bd6d9c495fad85bc715d024ca7-knockout_punches.js"
              },
              {
               "name": null,
               "type": "js",
               "url": "/assetserver/39ffd49c7b2c4055afb9b2d90a2236e85c963419-all.js"
              },
              {
               "name": null,
               "type": "css",
               "url": "/assetserver/735272bede921c68143b862265d877ddcb190297-style.css"
              },
              {
               "name": null,
               "type": "css",
               "url": "/assetserver/e1bf136134c1dc3c2ee7f6ee3a5f282fa21338d0-bulma_confined.min.css"
              }
             ],
             "type": "async_block"
            },
            "mount_callbacks": [
             "function () {\n    var handler = (function (ko, koPunches) {\n    ko.punches.enableAll();\n    ko.bindingHandlers.numericValue = {\n        init: function(element, valueAccessor, allBindings, data, context) {\n            var stringified = ko.observable(ko.unwrap(valueAccessor()));\n            stringified.subscribe(function(value) {\n                var val = parseFloat(value);\n                if (!isNaN(val)) {\n                    valueAccessor()(val);\n                }\n            });\n            valueAccessor().subscribe(function(value) {\n                var str = JSON.stringify(value);\n                if ((str == \"0\") && ([\"-0\", \"-0.\"].indexOf(stringified()) >= 0))\n                     return;\n                 if ([\"null\", \"\"].indexOf(str) >= 0)\n                     return;\n                stringified(str);\n            });\n            ko.applyBindingsToNode(\n                element,\n                {\n                    value: stringified,\n                    valueUpdate: allBindings.get('valueUpdate'),\n                },\n                context,\n            );\n        }\n    };\n    var json_data = {\"formatted_vals\":[\"1\",\"2\",\"3\",\"4\",\"5\",\"6\",\"7\",\"8\",\"9\",\"10\",\"11\",\"12\",\"13\",\"14\",\"15\"],\"changes\":WebIO.getval({\"name\":\"changes\",\"scope\":\"14022254113807661544\",\"id\":\"9926151349935768471\",\"type\":\"observable\"}),\"index\":WebIO.getval({\"name\":\"index\",\"scope\":\"14022254113807661544\",\"id\":\"16287225983184776064\",\"type\":\"observable\"})};\n    var self = this;\n    function AppViewModel() {\n        for (var key in json_data) {\n            var el = json_data[key];\n            this[key] = Array.isArray(el) ? ko.observableArray(el) : ko.observable(el);\n        }\n        \n        [this[\"formatted_val\"]=ko.computed(    function(){\n        return this.formatted_vals()[parseInt(this.index())-(1)];\n    }\n,this)]\n        [this[\"changes\"].subscribe((function (val){!(this.valueFromJulia[\"changes\"]) ? (WebIO.setval({\"name\":\"changes\",\"scope\":\"14022254113807661544\",\"id\":\"9926151349935768471\",\"type\":\"observable\"},val)) : undefined; return this.valueFromJulia[\"changes\"]=false}),self),this[\"index\"].subscribe((function (val){!(this.valueFromJulia[\"index\"]) ? (WebIO.setval({\"name\":\"index\",\"scope\":\"14022254113807661544\",\"id\":\"16287225983184776064\",\"type\":\"observable\"},val)) : undefined; return this.valueFromJulia[\"index\"]=false}),self)]\n        \n    }\n    self.model = new AppViewModel();\n    self.valueFromJulia = {};\n    for (var key in json_data) {\n        self.valueFromJulia[key] = false;\n    }\n    ko.applyBindings(self.model, self.dom);\n}\n);\n    (WebIO.importBlock({\"data\":[{\"name\":\"knockout\",\"type\":\"js\",\"url\":\"/assetserver/a963c1b8a7754895043656177cb77e7b7fec989e-knockout.js\"},{\"name\":\"knockout_punches\",\"type\":\"js\",\"url\":\"/assetserver/d3553359b4c867bd6d9c495fad85bc715d024ca7-knockout_punches.js\"}],\"type\":\"async_block\"})).then((imports) => handler.apply(this, imports));\n}\n"
            ],
            "observables": {
             "changes": {
              "id": "9926151349935768471",
              "sync": false,
              "value": 0
             },
             "index": {
              "id": "16287225983184776064",
              "sync": true,
              "value": 8
             }
            },
            "systemjs_options": null
           },
           "nodeType": "Scope",
           "props": {},
           "type": "node"
          }
         ],
         "instanceArgs": {
          "namespace": "html",
          "tag": "div"
         },
         "nodeType": "DOM",
         "props": {
          "className": "field interact-widget"
         },
         "type": "node"
        },
        {
         "children": [
          {
           "children": [],
           "instanceArgs": {
            "id": "11356205604717187076",
            "name": "obs-node"
           },
           "nodeType": "ObservableNode",
           "props": {},
           "type": "node"
          }
         ],
         "instanceArgs": {
          "handlers": {},
          "id": "2373976044116914382",
          "imports": {
           "data": [],
           "type": "async_block"
          },
          "mount_callbacks": [],
          "observables": {
           "obs-node": {
            "id": "11356205604717187076",
            "sync": false,
            "value": {
             "children": [
              {
               "children": [],
               "instanceArgs": {
                "namespace": "html",
                "tag": "div"
               },
               "nodeType": "DOM",
               "props": {
                "setInnerHtml": "<!DOCTYPE html>\n<html>\n    <head>\n        <title>Plots.jl</title>\n        <meta http-equiv=\"content-type\" content=\"text/html; charset=UTF-8\">\n        \n    </head>\n    <body>\n            <div id=\"0337e55b-c54f-499b-9f60-a03aa5c5c2eb\" style=\"width:600px;height:400px;\"></div>\n    <script>\n        requirejs.config({\n        paths: {\n            Plotly: 'https://cdn.plot.ly/plotly-1.57.1.min'\n        }\n    });\n    require(['Plotly'], function (Plotly) {\n\n    PLOT = document.getElementById('0337e55b-c54f-499b-9f60-a03aa5c5c2eb');\n    Plotly.plot(PLOT, [\n    {\n        \"xaxis\": \"x\",\n        \"colorbar\": {\n            \"title\": \"\"\n        },\n        \"yaxis\": \"y\",\n        \"x\": [\n            0.0,\n            0.015340112644426933,\n            0.030680225288853866,\n            0.17252171697354257,\n            0.31436320865823125,\n            0.39960403291889857,\n            0.48484485717956594,\n            0.5569148892483315,\n            0.6289849213170972,\n            0.7072731766942932,\n            0.7855614320714894,\n            0.8577362788103786,\n            0.9299111255492679,\n            1.0072901891756778,\n            1.0846692528020878,\n            1.1743204864101577,\n            1.2639717200182279,\n            1.3436431565239784,\n            1.423314593029729,\n            1.4931792632139245,\n            1.5630439333981199,\n            1.639215177553415,\n            1.71538642170871,\n            1.7920103724793233,\n            1.8686343232499367,\n            1.9533518991288894,\n            2.038069475007842,\n            2.11867611078605,\n            2.1992827465642577,\n            2.2830949451205087,\n            2.3669071436767597,\n            2.437459162487701,\n            2.508011181298642,\n            2.6802832177626836,\n            2.8422240131314496,\n            3.1016657253491733,\n            3.141592653589793\n        ],\n        \"showlegend\": true,\n        \"mode\": \"lines\",\n        \"name\": \"y1\",\n        \"zmin\": null,\n        \"legendgroup\": \"y1\",\n        \"zmax\": null,\n        \"line\": {\n            \"color\": \"rgba(0, 154, 250, 1.000)\",\n            \"shape\": \"linear\",\n            \"dash\": \"solid\",\n            \"width\": 1\n        },\n        \"y\": [\n            0.0,\n            0.015339511014701464,\n            0.03067541242093728,\n            0.17166717434870798,\n            0.3092109495508594,\n            0.38905360195643246,\n            0.4660711028717981,\n            0.528569798326157,\n            0.5883242430613824,\n            0.64976343137182,\n            0.7072222201480519,\n            0.7563636858789748,\n            0.8015668055511774,\n            0.8453874952692148,\n            0.88414893600324,\n            0.9224276439123988,\n            0.953297448140898,\n            0.9743114618127554,\n            0.9891442673157648,\n            0.9969893076459937,\n            0.999969950348809,\n            0.9976603433323025,\n            0.9895650509231215,\n            0.9756317894726576,\n            0.955973171617894,\n            0.9277136899890839,\n            0.892799925717166,\n            0.8536308148768001,\n            0.8089183002652021,\n            0.7568615568015717,\n            0.699491362414812,\n            0.6473736431477508,\n            0.5920349014277694,\n            0.44512104927186746,\n            0.2949169869941366,\n            0.03991632077017152,\n            1.2246467991473532e-16\n        ],\n        \"type\": \"scatter\"\n    },\n    {\n        \"xaxis\": \"x\",\n        \"colorbar\": {\n            \"title\": \"\"\n        },\n        \"yaxis\": \"y\",\n        \"x\": [\n            0.0,\n            0.06283185307179587,\n            0.12566370614359174,\n            0.1884955592153876,\n            0.25132741228718347,\n            0.3141592653589793,\n            0.3769911184307752,\n            0.4398229715025711,\n            0.5026548245743669,\n            0.5654866776461628,\n            0.6283185307179586,\n            0.6911503837897546,\n            0.7539822368615504,\n            0.8168140899333463,\n            0.8796459430051422,\n            0.942477796076938,\n            1.0053096491487339,\n            1.0681415022205298,\n            1.1309733552923256,\n            1.1938052083641215,\n            1.2566370614359172,\n            1.3194689145077132,\n            1.3823007675795091,\n            1.4451326206513049,\n            1.5079644737231008,\n            1.5707963267948968,\n            1.6336281798666925,\n            1.6964600329384885,\n            1.7592918860102844,\n            1.8221237390820801,\n            1.884955592153876,\n            1.9477874452256718,\n            2.0106192982974678,\n            2.0734511513692637,\n            2.1362830044410597,\n            2.199114857512855,\n            2.261946710584651,\n            2.324778563656447,\n            2.387610416728243,\n            2.450442269800039,\n            2.5132741228718345,\n            2.5761059759436304,\n            2.6389378290154264,\n            2.7017696820872223,\n            2.7646015351590183,\n            2.8274333882308142,\n            2.8902652413026098,\n            2.9530970943744057,\n            3.0159289474462017,\n            3.0787608005179976\n        ],\n        \"showlegend\": true,\n        \"mode\": \"lines\",\n        \"name\": \"y2\",\n        \"zmin\": null,\n        \"legendgroup\": \"y2\",\n        \"zmax\": null,\n        \"line\": {\n            \"color\": \"rgba(255, 165, 0, 1.000)\",\n            \"shape\": \"linear\",\n            \"dash\": \"solid\",\n            \"width\": 1\n        },\n        \"y\": [\n            0.34242662818613967,\n            0.3738425547220376,\n            0.4052584812579355,\n            0.4366744077938335,\n            0.4680903343297314,\n            0.4995062608656294,\n            0.5309221874015273,\n            0.5623381139374253,\n            0.5937540404733233,\n            0.6251699670092211,\n            0.656585893545119,\n            0.6880018200810171,\n            0.7194177466169149,\n            0.7508336731528129,\n            0.7822495996887109,\n            0.8136655262246087,\n            0.8450814527605067,\n            0.8764973792964047,\n            0.9079133058323026,\n            0.9393292323682005,\n            0.9707451589040984,\n            1.0021610854399965,\n            1.0335770119758945,\n            1.0649929385117922,\n            1.0964088650476902,\n            1.1278247915835882,\n            1.1592407181194861,\n            1.1906566446553841,\n            1.222072571191282,\n            1.2534884977271799,\n            1.284904424263078,\n            1.3163203507989758,\n            1.3477362773348738,\n            1.3791522038707718,\n            1.4105681304066697,\n            1.4419840569425675,\n            1.4733999834784655,\n            1.5048159100143634,\n            1.5362318365502614,\n            1.5676477630861594,\n            1.5990636896220571,\n            1.6304796161579551,\n            1.6618955426938533,\n            1.693311469229751,\n            1.7247273957656493,\n            1.756143322301547,\n            1.7875592488374448,\n            1.818975175373343,\n            1.8503911019092407,\n            1.881807028445139\n        ],\n        \"type\": \"scatter\"\n    },\n    {\n        \"xaxis\": \"x\",\n        \"colorbar\": {\n            \"title\": \"\"\n        },\n        \"yaxis\": \"y\",\n        \"x\": [\n            0.0,\n            0.06283185307179587,\n            0.12566370614359174,\n            0.1884955592153876,\n            0.25132741228718347,\n            0.3141592653589793,\n            0.3769911184307752,\n            0.4398229715025711,\n            0.5026548245743669,\n            0.5654866776461628,\n            0.6283185307179586,\n            0.6911503837897546,\n            0.7539822368615504,\n            0.8168140899333463,\n            0.8796459430051422,\n            0.942477796076938,\n            1.0053096491487339,\n            1.0681415022205298,\n            1.1309733552923256,\n            1.1938052083641215,\n            1.2566370614359172,\n            1.3194689145077132,\n            1.3823007675795091,\n            1.4451326206513049,\n            1.5079644737231008,\n            1.5707963267948968,\n            1.6336281798666925,\n            1.6964600329384885,\n            1.7592918860102844,\n            1.8221237390820801,\n            1.884955592153876,\n            1.9477874452256718,\n            2.0106192982974678,\n            2.0734511513692637,\n            2.1362830044410597,\n            2.199114857512855,\n            2.261946710584651,\n            2.324778563656447,\n            2.387610416728243,\n            2.450442269800039,\n            2.5132741228718345,\n            2.5761059759436304,\n            2.6389378290154264,\n            2.7017696820872223,\n            2.7646015351590183,\n            2.8274333882308142,\n            2.8902652413026098,\n            2.9530970943744057,\n            3.0159289474462017,\n            3.0787608005179976\n        ],\n        \"showlegend\": true,\n        \"mode\": \"lines\",\n        \"name\": \"y3\",\n        \"zmin\": null,\n        \"legendgroup\": \"y3\",\n        \"zmax\": null,\n        \"line\": {\n            \"color\": \"rgba(0, 0, 0, 1.000)\",\n            \"shape\": \"linear\",\n            \"dash\": \"solid\",\n            \"width\": 1\n        },\n        \"y\": [\n            0.427929787305524,\n            0.4542155242942589,\n            0.48050126128299375,\n            0.5067869982717287,\n            0.5330727352604636,\n            0.5593584722491984,\n            0.5856442092379333,\n            0.6119299462266682,\n            0.6382156832154031,\n            0.6645014202041379,\n            0.6907871571928728,\n            0.7170728941816077,\n            0.7433586311703426,\n            0.7696443681590774,\n            0.7959301051478124,\n            0.8222158421365472,\n            0.8485015791252821,\n            0.8747873161140169,\n            0.9010730531027518,\n            0.9273587900914867,\n            0.9536445270802215,\n            0.9799302640689564,\n            1.0062160010576915,\n            1.032501738046426,\n            1.0587874750351611,\n            1.085073212023896,\n            1.1113589490126308,\n            1.1376446860013658,\n            1.1639304229901006,\n            1.1902161599788355,\n            1.2165018969675705,\n            1.242787633956305,\n            1.2690733709450401,\n            1.2953591079337752,\n            1.32164484492251,\n            1.3479305819112448,\n            1.3742163188999796,\n            1.4005020558887145,\n            1.4267877928774495,\n            1.4530735298661843,\n            1.4793592668549191,\n            1.505645003843654,\n            1.5319307408323888,\n            1.5582164778211238,\n            1.5845022148098589,\n            1.6107879517985937,\n            1.6370736887873285,\n            1.6633594257760633,\n            1.6896451627647981,\n            1.7159308997535332\n        ],\n        \"type\": \"scatter\"\n    },\n    {\n        \"xaxis\": \"x\",\n        \"colorbar\": {\n            \"title\": \"\"\n        },\n        \"yaxis\": \"y\",\n        \"x\": [\n            1.0471975511965976,\n            1.2298560621759693\n        ],\n        \"showlegend\": true,\n        \"mode\": \"markers\",\n        \"name\": \"y4\",\n        \"zmin\": null,\n        \"legendgroup\": \"y4\",\n        \"marker\": {\n            \"symbol\": \"circle\",\n            \"color\": \"rgba(255, 165, 0, 1.000)\",\n            \"line\": {\n                \"color\": \"rgba(0, 0, 0, 1.000)\",\n                \"width\": 1\n            },\n            \"size\": 10\n        },\n        \"zmax\": null,\n        \"y\": [\n            0.8660254037844386,\n            0.9424406827174251\n        ],\n        \"type\": \"scatter\"\n    },\n    {\n        \"xaxis\": \"x\",\n        \"colorbar\": {\n            \"title\": \"\"\n        },\n        \"yaxis\": \"y\",\n        \"x\": [\n            1.0471975511965976,\n            1.2298560621759693,\n            1.2298560621759693\n        ],\n        \"showlegend\": true,\n        \"mode\": \"lines\",\n        \"name\": \"y5\",\n        \"zmin\": null,\n        \"legendgroup\": \"y5\",\n        \"zmax\": null,\n        \"line\": {\n            \"color\": \"rgba(77, 77, 77, 1.000)\",\n            \"shape\": \"linear\",\n            \"dash\": \"solid\",\n            \"width\": 1\n        },\n        \"y\": [\n            0.8660254037844386,\n            0.8660254037844386,\n            0.9424406827174251\n        ],\n        \"type\": \"scatter\"\n    }\n]\n, {\n    \"showlegend\": false,\n    \"xaxis\": {\n        \"showticklabels\": true,\n        \"gridwidth\": 0.5,\n        \"tickvals\": [\n            0.0,\n            1.0,\n            2.0,\n            3.0\n        ],\n        \"range\": [\n            -0.09424777960769379,\n            3.235840433197487\n        ],\n        \"domain\": [\n            0.05100612423447069,\n            0.9934383202099737\n        ],\n        \"mirror\": false,\n        \"tickangle\": 0,\n        \"showline\": true,\n        \"ticktext\": [\n            \"0\",\n            \"1\",\n            \"2\",\n            \"3\"\n        ],\n        \"zeroline\": false,\n        \"tickfont\": {\n            \"color\": \"rgba(0, 0, 0, 1.000)\",\n            \"family\": \"sans-serif\",\n            \"size\": 11\n        },\n        \"zerolinecolor\": \"rgba(0, 0, 0, 1.000)\",\n        \"anchor\": \"y\",\n        \"visible\": true,\n        \"ticks\": \"inside\",\n        \"tickmode\": \"array\",\n        \"linecolor\": \"rgba(0, 0, 0, 1.000)\",\n        \"showgrid\": true,\n        \"title\": \"\",\n        \"gridcolor\": \"rgba(0, 0, 0, 0.100)\",\n        \"titlefont\": {\n            \"color\": \"rgba(0, 0, 0, 1.000)\",\n            \"family\": \"sans-serif\",\n            \"size\": 15\n        },\n        \"tickcolor\": \"rgb(0, 0, 0)\",\n        \"type\": \"-\"\n    },\n    \"paper_bgcolor\": \"rgba(255, 255, 255, 1.000)\",\n    \"annotations\": [\n        {\n            \"yanchor\": \"top\",\n            \"xanchor\": \"center\",\n            \"rotation\": -0.0,\n            \"y\": 0.8660254037844386,\n            \"font\": {\n                \"color\": \"rgba(0, 0, 0, 1.000)\",\n                \"family\": \"sans-serif\",\n                \"size\": 20\n            },\n            \"yref\": \"y\",\n            \"showarrow\": false,\n            \"text\": \"Δx\",\n            \"xref\": \"x\",\n            \"x\": 1.1385268066862835\n        },\n        {\n            \"yanchor\": \"middle\",\n            \"xanchor\": \"left\",\n            \"rotation\": -0.0,\n            \"y\": 0.9042330432509318,\n            \"font\": {\n                \"color\": \"rgba(0, 0, 0, 1.000)\",\n                \"family\": \"sans-serif\",\n                \"size\": 20\n            },\n            \"yref\": \"y\",\n            \"showarrow\": false,\n            \"text\": \"Δy\",\n            \"xref\": \"x\",\n            \"x\": 1.2798560621759694\n        }\n    ],\n    \"height\": 400,\n    \"margin\": {\n        \"l\": 0,\n        \"b\": 20,\n        \"r\": 0,\n        \"t\": 20\n    },\n    \"plot_bgcolor\": \"rgba(255, 255, 255, 1.000)\",\n    \"yaxis\": {\n        \"showticklabels\": true,\n        \"gridwidth\": 0.5,\n        \"tickvals\": [\n            0.0,\n            0.5,\n            1.0,\n            1.5\n        ],\n        \"range\": [\n            -0.05645421085335416,\n            1.938261239298493\n        ],\n        \"domain\": [\n            0.03762029746281716,\n            0.9901574803149606\n        ],\n        \"mirror\": false,\n        \"tickangle\": 0,\n        \"showline\": true,\n        \"ticktext\": [\n            \"0.0\",\n            \"0.5\",\n            \"1.0\",\n            \"1.5\"\n        ],\n        \"zeroline\": false,\n        \"tickfont\": {\n            \"color\": \"rgba(0, 0, 0, 1.000)\",\n            \"family\": \"sans-serif\",\n            \"size\": 11\n        },\n        \"zerolinecolor\": \"rgba(0, 0, 0, 1.000)\",\n        \"anchor\": \"x\",\n        \"visible\": true,\n        \"ticks\": \"inside\",\n        \"tickmode\": \"array\",\n        \"linecolor\": \"rgba(0, 0, 0, 1.000)\",\n        \"showgrid\": true,\n        \"title\": \"\",\n        \"gridcolor\": \"rgba(0, 0, 0, 0.100)\",\n        \"titlefont\": {\n            \"color\": \"rgba(0, 0, 0, 1.000)\",\n            \"family\": \"sans-serif\",\n            \"size\": 15\n        },\n        \"tickcolor\": \"rgb(0, 0, 0)\",\n        \"type\": \"-\"\n    },\n    \"width\": 600\n}\n);\n    });\n    </script>\n\n    </body>\n</html>\n"
               },
               "type": "node"
              }
             ],
             "instanceArgs": {
              "namespace": "html",
              "tag": "div"
             },
             "nodeType": "DOM",
             "props": {
              "className": "interact-flex-row interact-widget"
             },
             "type": "node"
            }
           }
          },
          "systemjs_options": null
         },
         "nodeType": "Scope",
         "props": {},
         "type": "node"
        }
       ],
       "instanceArgs": {
        "namespace": "html",
        "tag": "div"
       },
       "nodeType": "DOM",
       "props": {},
       "type": "node"
      },
      "text/html": [
       "<div\n",
       "    class=\"webio-mountpoint\"\n",
       "    data-webio-mountpoint=\"16658175160193194503\"\n",
       ">\n",
       "    <script>\n",
       "    if (window.require && require.defined && require.defined(\"nbextensions/webio-jupyter-notebook\")) {\n",
       "        console.log(\"Jupyter WebIO extension detected, not mounting.\");\n",
       "    } else if (window.WebIO) {\n",
       "        WebIO.mount(\n",
       "            document.querySelector('[data-webio-mountpoint=\"16658175160193194503\"]'),\n",
       "            {\"props\":{},\"nodeType\":\"DOM\",\"type\":\"node\",\"instanceArgs\":{\"namespace\":\"html\",\"tag\":\"div\"},\"children\":[{\"props\":{\"className\":\"field interact-widget\"},\"nodeType\":\"DOM\",\"type\":\"node\",\"instanceArgs\":{\"namespace\":\"html\",\"tag\":\"div\"},\"children\":[{\"props\":{},\"nodeType\":\"Scope\",\"type\":\"node\",\"instanceArgs\":{\"imports\":{\"data\":[{\"name\":\"knockout\",\"type\":\"js\",\"url\":\"\\/assetserver\\/a963c1b8a7754895043656177cb77e7b7fec989e-knockout.js\"},{\"name\":\"knockout_punches\",\"type\":\"js\",\"url\":\"\\/assetserver\\/d3553359b4c867bd6d9c495fad85bc715d024ca7-knockout_punches.js\"},{\"name\":null,\"type\":\"js\",\"url\":\"\\/assetserver\\/39ffd49c7b2c4055afb9b2d90a2236e85c963419-all.js\"},{\"name\":null,\"type\":\"css\",\"url\":\"\\/assetserver\\/735272bede921c68143b862265d877ddcb190297-style.css\"},{\"name\":null,\"type\":\"css\",\"url\":\"\\/assetserver\\/e1bf136134c1dc3c2ee7f6ee3a5f282fa21338d0-bulma_confined.min.css\"}],\"type\":\"async_block\"},\"id\":\"14022254113807661544\",\"handlers\":{\"changes\":[\"(function (val){return (val!=this.model[\\\"changes\\\"]()) ? (this.valueFromJulia[\\\"changes\\\"]=true, this.model[\\\"changes\\\"](val)) : undefined})\"],\"index\":[\"(function (val){return (val!=this.model[\\\"index\\\"]()) ? (this.valueFromJulia[\\\"index\\\"]=true, this.model[\\\"index\\\"](val)) : undefined})\"]},\"systemjs_options\":null,\"mount_callbacks\":[\"function () {\\n    var handler = (function (ko, koPunches) {\\n    ko.punches.enableAll();\\n    ko.bindingHandlers.numericValue = {\\n        init: function(element, valueAccessor, allBindings, data, context) {\\n            var stringified = ko.observable(ko.unwrap(valueAccessor()));\\n            stringified.subscribe(function(value) {\\n                var val = parseFloat(value);\\n                if (!isNaN(val)) {\\n                    valueAccessor()(val);\\n                }\\n            });\\n            valueAccessor().subscribe(function(value) {\\n                var str = JSON.stringify(value);\\n                if ((str == \\\"0\\\") && ([\\\"-0\\\", \\\"-0.\\\"].indexOf(stringified()) >= 0))\\n                     return;\\n                 if ([\\\"null\\\", \\\"\\\"].indexOf(str) >= 0)\\n                     return;\\n                stringified(str);\\n            });\\n            ko.applyBindingsToNode(\\n                element,\\n                {\\n                    value: stringified,\\n                    valueUpdate: allBindings.get('valueUpdate'),\\n                },\\n                context,\\n            );\\n        }\\n    };\\n    var json_data = {\\\"formatted_vals\\\":[\\\"1\\\",\\\"2\\\",\\\"3\\\",\\\"4\\\",\\\"5\\\",\\\"6\\\",\\\"7\\\",\\\"8\\\",\\\"9\\\",\\\"10\\\",\\\"11\\\",\\\"12\\\",\\\"13\\\",\\\"14\\\",\\\"15\\\"],\\\"changes\\\":WebIO.getval({\\\"name\\\":\\\"changes\\\",\\\"scope\\\":\\\"14022254113807661544\\\",\\\"id\\\":\\\"9926151349935768471\\\",\\\"type\\\":\\\"observable\\\"}),\\\"index\\\":WebIO.getval({\\\"name\\\":\\\"index\\\",\\\"scope\\\":\\\"14022254113807661544\\\",\\\"id\\\":\\\"16287225983184776064\\\",\\\"type\\\":\\\"observable\\\"})};\\n    var self = this;\\n    function AppViewModel() {\\n        for (var key in json_data) {\\n            var el = json_data[key];\\n            this[key] = Array.isArray(el) ? ko.observableArray(el) : ko.observable(el);\\n        }\\n        \\n        [this[\\\"formatted_val\\\"]=ko.computed(    function(){\\n        return this.formatted_vals()[parseInt(this.index())-(1)];\\n    }\\n,this)]\\n        [this[\\\"changes\\\"].subscribe((function (val){!(this.valueFromJulia[\\\"changes\\\"]) ? (WebIO.setval({\\\"name\\\":\\\"changes\\\",\\\"scope\\\":\\\"14022254113807661544\\\",\\\"id\\\":\\\"9926151349935768471\\\",\\\"type\\\":\\\"observable\\\"},val)) : undefined; return this.valueFromJulia[\\\"changes\\\"]=false}),self),this[\\\"index\\\"].subscribe((function (val){!(this.valueFromJulia[\\\"index\\\"]) ? (WebIO.setval({\\\"name\\\":\\\"index\\\",\\\"scope\\\":\\\"14022254113807661544\\\",\\\"id\\\":\\\"16287225983184776064\\\",\\\"type\\\":\\\"observable\\\"},val)) : undefined; return this.valueFromJulia[\\\"index\\\"]=false}),self)]\\n        \\n    }\\n    self.model = new AppViewModel();\\n    self.valueFromJulia = {};\\n    for (var key in json_data) {\\n        self.valueFromJulia[key] = false;\\n    }\\n    ko.applyBindings(self.model, self.dom);\\n}\\n);\\n    (WebIO.importBlock({\\\"data\\\":[{\\\"name\\\":\\\"knockout\\\",\\\"type\\\":\\\"js\\\",\\\"url\\\":\\\"\\/assetserver\\/a963c1b8a7754895043656177cb77e7b7fec989e-knockout.js\\\"},{\\\"name\\\":\\\"knockout_punches\\\",\\\"type\\\":\\\"js\\\",\\\"url\\\":\\\"\\/assetserver\\/d3553359b4c867bd6d9c495fad85bc715d024ca7-knockout_punches.js\\\"}],\\\"type\\\":\\\"async_block\\\"})).then((imports) => handler.apply(this, imports));\\n}\\n\"],\"observables\":{\"changes\":{\"sync\":false,\"id\":\"9926151349935768471\",\"value\":0},\"index\":{\"sync\":true,\"id\":\"16287225983184776064\",\"value\":8}}},\"children\":[{\"props\":{\"className\":\"interact-flex-row interact-widget\"},\"nodeType\":\"DOM\",\"type\":\"node\",\"instanceArgs\":{\"namespace\":\"html\",\"tag\":\"div\"},\"children\":[{\"props\":{\"className\":\"interact-flex-row-left\"},\"nodeType\":\"DOM\",\"type\":\"node\",\"instanceArgs\":{\"namespace\":\"html\",\"tag\":\"div\"},\"children\":[{\"props\":{\"className\":\"interact \",\"style\":{\"padding\":\"5px 10px 0px 10px\"}},\"nodeType\":\"DOM\",\"type\":\"node\",\"instanceArgs\":{\"namespace\":\"html\",\"tag\":\"label\"},\"children\":[\"n\"]}]},{\"props\":{\"className\":\"interact-flex-row-center\"},\"nodeType\":\"DOM\",\"type\":\"node\",\"instanceArgs\":{\"namespace\":\"html\",\"tag\":\"div\"},\"children\":[{\"props\":{\"max\":15,\"min\":1,\"attributes\":{\"type\":\"range\",\"data-bind\":\"numericValue: index, valueUpdate: 'input', event: {change: function (){this.changes(this.changes()+1)}}\",\"orient\":\"horizontal\"},\"step\":1,\"className\":\"slider slider is-fullwidth\",\"style\":{}},\"nodeType\":\"DOM\",\"type\":\"node\",\"instanceArgs\":{\"namespace\":\"html\",\"tag\":\"input\"},\"children\":[]}]},{\"props\":{\"className\":\"interact-flex-row-right\"},\"nodeType\":\"DOM\",\"type\":\"node\",\"instanceArgs\":{\"namespace\":\"html\",\"tag\":\"div\"},\"children\":[{\"props\":{\"attributes\":{\"data-bind\":\"text: formatted_val\"}},\"nodeType\":\"DOM\",\"type\":\"node\",\"instanceArgs\":{\"namespace\":\"html\",\"tag\":\"p\"},\"children\":[]}]}]}]}]},{\"props\":{},\"nodeType\":\"Scope\",\"type\":\"node\",\"instanceArgs\":{\"imports\":{\"data\":[],\"type\":\"async_block\"},\"id\":\"4118819142579658485\",\"handlers\":{},\"systemjs_options\":null,\"mount_callbacks\":[],\"observables\":{\"obs-node\":{\"sync\":false,\"id\":\"17927420285528935854\",\"value\":{\"props\":{\"className\":\"interact-flex-row interact-widget\"},\"nodeType\":\"DOM\",\"type\":\"node\",\"instanceArgs\":{\"namespace\":\"html\",\"tag\":\"div\"},\"children\":[{\"props\":{\"setInnerHtml\":\"<!DOCTYPE html>\\n<html>\\n    <head>\\n        <title>Plots.jl<\\/title>\\n        <meta http-equiv=\\\"content-type\\\" content=\\\"text\\/html; charset=UTF-8\\\">\\n        \\n    <\\/head>\\n    <body>\\n            <div id=\\\"382f5a27-299a-4cb4-ab48-23e004602fd6\\\" style=\\\"width:600px;height:400px;\\\"><\\/div>\\n    <script>\\n        requirejs.config({\\n        paths: {\\n            Plotly: 'https:\\/\\/cdn.plot.ly\\/plotly-1.57.1.min'\\n        }\\n    });\\n    require(['Plotly'], function (Plotly) {\\n\\n    PLOT = document.getElementById('382f5a27-299a-4cb4-ab48-23e004602fd6');\\n    Plotly.plot(PLOT, [\\n    {\\n        \\\"xaxis\\\": \\\"x\\\",\\n        \\\"colorbar\\\": {\\n            \\\"title\\\": \\\"\\\"\\n        },\\n        \\\"yaxis\\\": \\\"y\\\",\\n        \\\"x\\\": [\\n            0.0,\\n            0.015340112644426933,\\n            0.030680225288853866,\\n            0.17252171697354257,\\n            0.31436320865823125,\\n            0.39960403291889857,\\n            0.48484485717956594,\\n            0.5569148892483315,\\n            0.6289849213170972,\\n            0.7072731766942932,\\n            0.7855614320714894,\\n            0.8577362788103786,\\n            0.9299111255492679,\\n            1.0072901891756778,\\n            1.0846692528020878,\\n            1.1743204864101577,\\n            1.2639717200182279,\\n            1.3436431565239784,\\n            1.423314593029729,\\n            1.4931792632139245,\\n            1.5630439333981199,\\n            1.639215177553415,\\n            1.71538642170871,\\n            1.7920103724793233,\\n            1.8686343232499367,\\n            1.9533518991288894,\\n            2.038069475007842,\\n            2.11867611078605,\\n            2.1992827465642577,\\n            2.2830949451205087,\\n            2.3669071436767597,\\n            2.437459162487701,\\n            2.508011181298642,\\n            2.6802832177626836,\\n            2.8422240131314496,\\n            3.1016657253491733,\\n            3.141592653589793\\n        ],\\n        \\\"showlegend\\\": true,\\n        \\\"mode\\\": \\\"lines\\\",\\n        \\\"name\\\": \\\"y1\\\",\\n        \\\"zmin\\\": null,\\n        \\\"legendgroup\\\": \\\"y1\\\",\\n        \\\"zmax\\\": null,\\n        \\\"line\\\": {\\n            \\\"color\\\": \\\"rgba(0, 154, 250, 1.000)\\\",\\n            \\\"shape\\\": \\\"linear\\\",\\n            \\\"dash\\\": \\\"solid\\\",\\n            \\\"width\\\": 1\\n        },\\n        \\\"y\\\": [\\n            0.0,\\n            0.015339511014701464,\\n            0.03067541242093728,\\n            0.17166717434870798,\\n            0.3092109495508594,\\n            0.38905360195643246,\\n            0.4660711028717981,\\n            0.528569798326157,\\n            0.5883242430613824,\\n            0.64976343137182,\\n            0.7072222201480519,\\n            0.7563636858789748,\\n            0.8015668055511774,\\n            0.8453874952692148,\\n            0.88414893600324,\\n            0.9224276439123988,\\n            0.953297448140898,\\n            0.9743114618127554,\\n            0.9891442673157648,\\n            0.9969893076459937,\\n            0.999969950348809,\\n            0.9976603433323025,\\n            0.9895650509231215,\\n            0.9756317894726576,\\n            0.955973171617894,\\n            0.9277136899890839,\\n            0.892799925717166,\\n            0.8536308148768001,\\n            0.8089183002652021,\\n            0.7568615568015717,\\n            0.699491362414812,\\n            0.6473736431477508,\\n            0.5920349014277694,\\n            0.44512104927186746,\\n            0.2949169869941366,\\n            0.03991632077017152,\\n            1.2246467991473532e-16\\n        ],\\n        \\\"type\\\": \\\"scatter\\\"\\n    },\\n    {\\n        \\\"xaxis\\\": \\\"x\\\",\\n        \\\"colorbar\\\": {\\n            \\\"title\\\": \\\"\\\"\\n        },\\n        \\\"yaxis\\\": \\\"y\\\",\\n        \\\"x\\\": [\\n            0.0,\\n            0.06283185307179587,\\n            0.12566370614359174,\\n            0.1884955592153876,\\n            0.25132741228718347,\\n            0.3141592653589793,\\n            0.3769911184307752,\\n            0.4398229715025711,\\n            0.5026548245743669,\\n            0.5654866776461628,\\n            0.6283185307179586,\\n            0.6911503837897546,\\n            0.7539822368615504,\\n            0.8168140899333463,\\n            0.8796459430051422,\\n            0.942477796076938,\\n            1.0053096491487339,\\n            1.0681415022205298,\\n            1.1309733552923256,\\n            1.1938052083641215,\\n            1.2566370614359172,\\n            1.3194689145077132,\\n            1.3823007675795091,\\n            1.4451326206513049,\\n            1.5079644737231008,\\n            1.5707963267948968,\\n            1.6336281798666925,\\n            1.6964600329384885,\\n            1.7592918860102844,\\n            1.8221237390820801,\\n            1.884955592153876,\\n            1.9477874452256718,\\n            2.0106192982974678,\\n            2.0734511513692637,\\n            2.1362830044410597,\\n            2.199114857512855,\\n            2.261946710584651,\\n            2.324778563656447,\\n            2.387610416728243,\\n            2.450442269800039,\\n            2.5132741228718345,\\n            2.5761059759436304,\\n            2.6389378290154264,\\n            2.7017696820872223,\\n            2.7646015351590183,\\n            2.8274333882308142,\\n            2.8902652413026098,\\n            2.9530970943744057,\\n            3.0159289474462017,\\n            3.0787608005179976\\n        ],\\n        \\\"showlegend\\\": true,\\n        \\\"mode\\\": \\\"lines\\\",\\n        \\\"name\\\": \\\"y2\\\",\\n        \\\"zmin\\\": null,\\n        \\\"legendgroup\\\": \\\"y2\\\",\\n        \\\"zmax\\\": null,\\n        \\\"line\\\": {\\n            \\\"color\\\": \\\"rgba(255, 165, 0, 1.000)\\\",\\n            \\\"shape\\\": \\\"linear\\\",\\n            \\\"dash\\\": \\\"solid\\\",\\n            \\\"width\\\": 1\\n        },\\n        \\\"y\\\": [\\n            0.34242662818613967,\\n            0.3738425547220376,\\n            0.4052584812579355,\\n            0.4366744077938335,\\n            0.4680903343297314,\\n            0.4995062608656294,\\n            0.5309221874015273,\\n            0.5623381139374253,\\n            0.5937540404733233,\\n            0.6251699670092211,\\n            0.656585893545119,\\n            0.6880018200810171,\\n            0.7194177466169149,\\n            0.7508336731528129,\\n            0.7822495996887109,\\n            0.8136655262246087,\\n            0.8450814527605067,\\n            0.8764973792964047,\\n            0.9079133058323026,\\n            0.9393292323682005,\\n            0.9707451589040984,\\n            1.0021610854399965,\\n            1.0335770119758945,\\n            1.0649929385117922,\\n            1.0964088650476902,\\n            1.1278247915835882,\\n            1.1592407181194861,\\n            1.1906566446553841,\\n            1.222072571191282,\\n            1.2534884977271799,\\n            1.284904424263078,\\n            1.3163203507989758,\\n            1.3477362773348738,\\n            1.3791522038707718,\\n            1.4105681304066697,\\n            1.4419840569425675,\\n            1.4733999834784655,\\n            1.5048159100143634,\\n            1.5362318365502614,\\n            1.5676477630861594,\\n            1.5990636896220571,\\n            1.6304796161579551,\\n            1.6618955426938533,\\n            1.693311469229751,\\n            1.7247273957656493,\\n            1.756143322301547,\\n            1.7875592488374448,\\n            1.818975175373343,\\n            1.8503911019092407,\\n            1.881807028445139\\n        ],\\n        \\\"type\\\": \\\"scatter\\\"\\n    },\\n    {\\n        \\\"xaxis\\\": \\\"x\\\",\\n        \\\"colorbar\\\": {\\n            \\\"title\\\": \\\"\\\"\\n        },\\n        \\\"yaxis\\\": \\\"y\\\",\\n        \\\"x\\\": [\\n            0.0,\\n            0.06283185307179587,\\n            0.12566370614359174,\\n            0.1884955592153876,\\n            0.25132741228718347,\\n            0.3141592653589793,\\n            0.3769911184307752,\\n            0.4398229715025711,\\n            0.5026548245743669,\\n            0.5654866776461628,\\n            0.6283185307179586,\\n            0.6911503837897546,\\n            0.7539822368615504,\\n            0.8168140899333463,\\n            0.8796459430051422,\\n            0.942477796076938,\\n            1.0053096491487339,\\n            1.0681415022205298,\\n            1.1309733552923256,\\n            1.1938052083641215,\\n            1.2566370614359172,\\n            1.3194689145077132,\\n            1.3823007675795091,\\n            1.4451326206513049,\\n            1.5079644737231008,\\n            1.5707963267948968,\\n            1.6336281798666925,\\n            1.6964600329384885,\\n            1.7592918860102844,\\n            1.8221237390820801,\\n            1.884955592153876,\\n            1.9477874452256718,\\n            2.0106192982974678,\\n            2.0734511513692637,\\n            2.1362830044410597,\\n            2.199114857512855,\\n            2.261946710584651,\\n            2.324778563656447,\\n            2.387610416728243,\\n            2.450442269800039,\\n            2.5132741228718345,\\n            2.5761059759436304,\\n            2.6389378290154264,\\n            2.7017696820872223,\\n            2.7646015351590183,\\n            2.8274333882308142,\\n            2.8902652413026098,\\n            2.9530970943744057,\\n            3.0159289474462017,\\n            3.0787608005179976\\n        ],\\n        \\\"showlegend\\\": true,\\n        \\\"mode\\\": \\\"lines\\\",\\n        \\\"name\\\": \\\"y3\\\",\\n        \\\"zmin\\\": null,\\n        \\\"legendgroup\\\": \\\"y3\\\",\\n        \\\"zmax\\\": null,\\n        \\\"line\\\": {\\n            \\\"color\\\": \\\"rgba(0, 0, 0, 1.000)\\\",\\n            \\\"shape\\\": \\\"linear\\\",\\n            \\\"dash\\\": \\\"solid\\\",\\n            \\\"width\\\": 1\\n        },\\n        \\\"y\\\": [\\n            0.427929787305524,\\n            0.4542155242942589,\\n            0.48050126128299375,\\n            0.5067869982717287,\\n            0.5330727352604636,\\n            0.5593584722491984,\\n            0.5856442092379333,\\n            0.6119299462266682,\\n            0.6382156832154031,\\n            0.6645014202041379,\\n            0.6907871571928728,\\n            0.7170728941816077,\\n            0.7433586311703426,\\n            0.7696443681590774,\\n            0.7959301051478124,\\n            0.8222158421365472,\\n            0.8485015791252821,\\n            0.8747873161140169,\\n            0.9010730531027518,\\n            0.9273587900914867,\\n            0.9536445270802215,\\n            0.9799302640689564,\\n            1.0062160010576915,\\n            1.032501738046426,\\n            1.0587874750351611,\\n            1.085073212023896,\\n            1.1113589490126308,\\n            1.1376446860013658,\\n            1.1639304229901006,\\n            1.1902161599788355,\\n            1.2165018969675705,\\n            1.242787633956305,\\n            1.2690733709450401,\\n            1.2953591079337752,\\n            1.32164484492251,\\n            1.3479305819112448,\\n            1.3742163188999796,\\n            1.4005020558887145,\\n            1.4267877928774495,\\n            1.4530735298661843,\\n            1.4793592668549191,\\n            1.505645003843654,\\n            1.5319307408323888,\\n            1.5582164778211238,\\n            1.5845022148098589,\\n            1.6107879517985937,\\n            1.6370736887873285,\\n            1.6633594257760633,\\n            1.6896451627647981,\\n            1.7159308997535332\\n        ],\\n        \\\"type\\\": \\\"scatter\\\"\\n    },\\n    {\\n        \\\"xaxis\\\": \\\"x\\\",\\n        \\\"colorbar\\\": {\\n            \\\"title\\\": \\\"\\\"\\n        },\\n        \\\"yaxis\\\": \\\"y\\\",\\n        \\\"x\\\": [\\n            1.0471975511965976,\\n            1.2298560621759693\\n        ],\\n        \\\"showlegend\\\": true,\\n        \\\"mode\\\": \\\"markers\\\",\\n        \\\"name\\\": \\\"y4\\\",\\n        \\\"zmin\\\": null,\\n        \\\"legendgroup\\\": \\\"y4\\\",\\n        \\\"marker\\\": {\\n            \\\"symbol\\\": \\\"circle\\\",\\n            \\\"color\\\": \\\"rgba(255, 165, 0, 1.000)\\\",\\n            \\\"line\\\": {\\n                \\\"color\\\": \\\"rgba(0, 0, 0, 1.000)\\\",\\n                \\\"width\\\": 1\\n            },\\n            \\\"size\\\": 10\\n        },\\n        \\\"zmax\\\": null,\\n        \\\"y\\\": [\\n            0.8660254037844386,\\n            0.9424406827174251\\n        ],\\n        \\\"type\\\": \\\"scatter\\\"\\n    },\\n    {\\n        \\\"xaxis\\\": \\\"x\\\",\\n        \\\"colorbar\\\": {\\n            \\\"title\\\": \\\"\\\"\\n        },\\n        \\\"yaxis\\\": \\\"y\\\",\\n        \\\"x\\\": [\\n            1.0471975511965976,\\n            1.2298560621759693,\\n            1.2298560621759693\\n        ],\\n        \\\"showlegend\\\": true,\\n        \\\"mode\\\": \\\"lines\\\",\\n        \\\"name\\\": \\\"y5\\\",\\n        \\\"zmin\\\": null,\\n        \\\"legendgroup\\\": \\\"y5\\\",\\n        \\\"zmax\\\": null,\\n        \\\"line\\\": {\\n            \\\"color\\\": \\\"rgba(77, 77, 77, 1.000)\\\",\\n            \\\"shape\\\": \\\"linear\\\",\\n            \\\"dash\\\": \\\"solid\\\",\\n            \\\"width\\\": 1\\n        },\\n        \\\"y\\\": [\\n            0.8660254037844386,\\n            0.8660254037844386,\\n            0.9424406827174251\\n        ],\\n        \\\"type\\\": \\\"scatter\\\"\\n    }\\n]\\n, {\\n    \\\"showlegend\\\": false,\\n    \\\"xaxis\\\": {\\n        \\\"showticklabels\\\": true,\\n        \\\"gridwidth\\\": 0.5,\\n        \\\"tickvals\\\": [\\n            0.0,\\n            1.0,\\n            2.0,\\n            3.0\\n        ],\\n        \\\"range\\\": [\\n            -0.09424777960769379,\\n            3.235840433197487\\n        ],\\n        \\\"domain\\\": [\\n            0.05100612423447069,\\n            0.9934383202099737\\n        ],\\n        \\\"mirror\\\": false,\\n        \\\"tickangle\\\": 0,\\n        \\\"showline\\\": true,\\n        \\\"ticktext\\\": [\\n            \\\"0\\\",\\n            \\\"1\\\",\\n            \\\"2\\\",\\n            \\\"3\\\"\\n        ],\\n        \\\"zeroline\\\": false,\\n        \\\"tickfont\\\": {\\n            \\\"color\\\": \\\"rgba(0, 0, 0, 1.000)\\\",\\n            \\\"family\\\": \\\"sans-serif\\\",\\n            \\\"size\\\": 11\\n        },\\n        \\\"zerolinecolor\\\": \\\"rgba(0, 0, 0, 1.000)\\\",\\n        \\\"anchor\\\": \\\"y\\\",\\n        \\\"visible\\\": true,\\n        \\\"ticks\\\": \\\"inside\\\",\\n        \\\"tickmode\\\": \\\"array\\\",\\n        \\\"linecolor\\\": \\\"rgba(0, 0, 0, 1.000)\\\",\\n        \\\"showgrid\\\": true,\\n        \\\"title\\\": \\\"\\\",\\n        \\\"gridcolor\\\": \\\"rgba(0, 0, 0, 0.100)\\\",\\n        \\\"titlefont\\\": {\\n            \\\"color\\\": \\\"rgba(0, 0, 0, 1.000)\\\",\\n            \\\"family\\\": \\\"sans-serif\\\",\\n            \\\"size\\\": 15\\n        },\\n        \\\"tickcolor\\\": \\\"rgb(0, 0, 0)\\\",\\n        \\\"type\\\": \\\"-\\\"\\n    },\\n    \\\"paper_bgcolor\\\": \\\"rgba(255, 255, 255, 1.000)\\\",\\n    \\\"annotations\\\": [\\n        {\\n            \\\"yanchor\\\": \\\"top\\\",\\n            \\\"xanchor\\\": \\\"center\\\",\\n            \\\"rotation\\\": -0.0,\\n            \\\"y\\\": 0.8660254037844386,\\n            \\\"font\\\": {\\n                \\\"color\\\": \\\"rgba(0, 0, 0, 1.000)\\\",\\n                \\\"family\\\": \\\"sans-serif\\\",\\n                \\\"size\\\": 20\\n            },\\n            \\\"yref\\\": \\\"y\\\",\\n            \\\"showarrow\\\": false,\\n            \\\"text\\\": \\\"Δx\\\",\\n            \\\"xref\\\": \\\"x\\\",\\n            \\\"x\\\": 1.1385268066862835\\n        },\\n        {\\n            \\\"yanchor\\\": \\\"middle\\\",\\n            \\\"xanchor\\\": \\\"left\\\",\\n            \\\"rotation\\\": -0.0,\\n            \\\"y\\\": 0.9042330432509318,\\n            \\\"font\\\": {\\n                \\\"color\\\": \\\"rgba(0, 0, 0, 1.000)\\\",\\n                \\\"family\\\": \\\"sans-serif\\\",\\n                \\\"size\\\": 20\\n            },\\n            \\\"yref\\\": \\\"y\\\",\\n            \\\"showarrow\\\": false,\\n            \\\"text\\\": \\\"Δy\\\",\\n            \\\"xref\\\": \\\"x\\\",\\n            \\\"x\\\": 1.2798560621759694\\n        }\\n    ],\\n    \\\"height\\\": 400,\\n    \\\"margin\\\": {\\n        \\\"l\\\": 0,\\n        \\\"b\\\": 20,\\n        \\\"r\\\": 0,\\n        \\\"t\\\": 20\\n    },\\n    \\\"plot_bgcolor\\\": \\\"rgba(255, 255, 255, 1.000)\\\",\\n    \\\"yaxis\\\": {\\n        \\\"showticklabels\\\": true,\\n        \\\"gridwidth\\\": 0.5,\\n        \\\"tickvals\\\": [\\n            0.0,\\n            0.5,\\n            1.0,\\n            1.5\\n        ],\\n        \\\"range\\\": [\\n            -0.05645421085335416,\\n            1.938261239298493\\n        ],\\n        \\\"domain\\\": [\\n            0.03762029746281716,\\n            0.9901574803149606\\n        ],\\n        \\\"mirror\\\": false,\\n        \\\"tickangle\\\": 0,\\n        \\\"showline\\\": true,\\n        \\\"ticktext\\\": [\\n            \\\"0.0\\\",\\n            \\\"0.5\\\",\\n            \\\"1.0\\\",\\n            \\\"1.5\\\"\\n        ],\\n        \\\"zeroline\\\": false,\\n        \\\"tickfont\\\": {\\n            \\\"color\\\": \\\"rgba(0, 0, 0, 1.000)\\\",\\n            \\\"family\\\": \\\"sans-serif\\\",\\n            \\\"size\\\": 11\\n        },\\n        \\\"zerolinecolor\\\": \\\"rgba(0, 0, 0, 1.000)\\\",\\n        \\\"anchor\\\": \\\"x\\\",\\n        \\\"visible\\\": true,\\n        \\\"ticks\\\": \\\"inside\\\",\\n        \\\"tickmode\\\": \\\"array\\\",\\n        \\\"linecolor\\\": \\\"rgba(0, 0, 0, 1.000)\\\",\\n        \\\"showgrid\\\": true,\\n        \\\"title\\\": \\\"\\\",\\n        \\\"gridcolor\\\": \\\"rgba(0, 0, 0, 0.100)\\\",\\n        \\\"titlefont\\\": {\\n            \\\"color\\\": \\\"rgba(0, 0, 0, 1.000)\\\",\\n            \\\"family\\\": \\\"sans-serif\\\",\\n            \\\"size\\\": 15\\n        },\\n        \\\"tickcolor\\\": \\\"rgb(0, 0, 0)\\\",\\n        \\\"type\\\": \\\"-\\\"\\n    },\\n    \\\"width\\\": 600\\n}\\n);\\n    });\\n    <\\/script>\\n\\n    <\\/body>\\n<\\/html>\\n\"},\"nodeType\":\"DOM\",\"type\":\"node\",\"instanceArgs\":{\"namespace\":\"html\",\"tag\":\"div\"},\"children\":[]}]}}}},\"children\":[{\"props\":{},\"nodeType\":\"ObservableNode\",\"type\":\"node\",\"instanceArgs\":{\"id\":\"17927420285528935854\",\"name\":\"obs-node\"},\"children\":[]}]}]},\n",
       "            window,\n",
       "        );\n",
       "    } else {\n",
       "        document\n",
       "            .querySelector('[data-webio-mountpoint=\"16658175160193194503\"]')\n",
       "            .innerHTML = (\n",
       "                '<div style=\"padding: 1em; background-color: #f8d6da; border: 1px solid #f5c6cb\">' +\n",
       "                '<p><strong>WebIO not detected.</strong></p>' +\n",
       "                '<p>Please read ' +\n",
       "                '<a href=\"https://juliagizmos.github.io/WebIO.jl/latest/troubleshooting/not-detected/\" target=\"_blank\">the troubleshooting guide</a> ' +\n",
       "                'for more information on how to resolve this issue.</p>' +\n",
       "                '<p><a href=\"https://juliagizmos.github.io/WebIO.jl/latest/troubleshooting/not-detected/\" target=\"_blank\">https://juliagizmos.github.io/WebIO.jl/latest/troubleshooting/not-detected/</a></p>' +\n",
       "                '</div>'\n",
       "            );\n",
       "    }\n",
       "    </script>\n",
       "</div>\n"
      ],
      "text/plain": [
       "Node{WebIO.DOM}(WebIO.DOM(:html, :div), Any[Node{WebIO.DOM}(WebIO.DOM(:html, :div), Any[Scope(Node{WebIO.DOM}(WebIO.DOM(:html, :div), Any[Node{WebIO.DOM}(WebIO.DOM(:html, :div), Any[Node{WebIO.DOM}(WebIO.DOM(:html, :label), Any[\"n\"], Dict{Symbol, Any}(:className => \"interact \", :style => Dict{Any, Any}(:padding => \"5px 10px 0px 10px\")))], Dict{Symbol, Any}(:className => \"interact-flex-row-left\")), Node{WebIO.DOM}(WebIO.DOM(:html, :div), Any[Node{WebIO.DOM}(WebIO.DOM(:html, :input), Any[], Dict{Symbol, Any}(:max => 15, :min => 1, :attributes => Dict{Any, Any}(:type => \"range\", Symbol(\"data-bind\") => \"numericValue: index, valueUpdate: 'input', event: {change: function (){this.changes(this.changes()+1)}}\", \"orient\" => \"horizontal\"), :step => 1, :className => \"slider slider is-fullwidth\", :style => Dict{Any, Any}()))], Dict{Symbol, Any}(:className => \"interact-flex-row-center\")), Node{WebIO.DOM}(WebIO.DOM(:html, :div), Any[Node{WebIO.DOM}(WebIO.DOM(:html, :p), Any[], Dict{Symbol, Any}(:attributes => Dict(\"data-bind\" => \"text: formatted_val\")))], Dict{Symbol, Any}(:className => \"interact-flex-row-right\"))], Dict{Symbol, Any}(:className => \"interact-flex-row interact-widget\")), Dict{String, Tuple{Observables.AbstractObservable, Union{Nothing, Bool}}}(\"changes\" => (Observable{Int64} with 1 listeners. Value:\n",
       "0, nothing), \"index\" => (Observable{Int64} with 2 listeners. Value:\n",
       "8, nothing)), Set{String}(), nothing, Asset[Asset(\"js\", \"knockout\", \"/home/jotape/.julia/packages/Knockout/IP1uR/src/../assets/knockout.js\"), Asset(\"js\", \"knockout_punches\", \"/home/jotape/.julia/packages/Knockout/IP1uR/src/../assets/knockout_punches.js\"), Asset(\"js\", nothing, \"/home/jotape/.julia/packages/InteractBase/Zfu5P/src/../assets/all.js\"), Asset(\"css\", nothing, \"/home/jotape/.julia/packages/InteractBase/Zfu5P/src/../assets/style.css\"), Asset(\"css\", nothing, \"/home/jotape/.julia/packages/Interact/SbgIk/src/../assets/bulma_confined.min.css\")], Dict{Any, Any}(\"changes\" => Any[WebIO.JSString(\"(function (val){return (val!=this.model[\\\"changes\\\"]()) ? (this.valueFromJulia[\\\"changes\\\"]=true, this.model[\\\"changes\\\"](val)) : undefined})\")], \"index\" => Any[WebIO.JSString(\"(function (val){return (val!=this.model[\\\"index\\\"]()) ? (this.valueFromJulia[\\\"index\\\"]=true, this.model[\\\"index\\\"](val)) : undefined})\")]), WebIO.ConnectionPool(Channel{Any}(32), Set{AbstractConnection}(), Condition(Base.InvasiveLinkedList{Task}(Task (runnable) @0x00007feb2c4679d0, Task (runnable) @0x00007feb2c4679d0), Base.AlwaysLockedST(1))), WebIO.JSString[WebIO.JSString(\"function () {\\n    var handler = (function (ko, koPunches) {\\n    ko.punches.enableAll();\\n    ko.bindingHandlers.numericValue = {\\n        init: function(element, valueAccessor, allBindings, data, context) {\\n            var stringified = ko.observable(ko.unwrap(valueAccessor()));\\n            stringified.subscribe(function(value) {\\n                var val = parseFloat(value);\\n                if (!isNaN(val)) {\\n                    valueAccessor()(val);\\n                }\\n            });\\n            valueAccessor().subscribe(function(value) {\\n                var str = JSON.stringify(value);\\n                if ((str == \\\"0\\\") && ([\\\"-0\\\", \\\"-0.\\\"].indexOf(stringified()) >= 0))\\n                     return;\\n                 if ([\\\"null\\\", \\\"\\\"].indexOf(str) >= 0)\\n                     return;\\n                stringified(str);\\n            });\\n            ko.applyBindingsToNode(\\n                element,\\n                {\\n                    value: stringified,\\n                    valueUpdate: allBindings.get('valueUpdate'),\\n                },\\n                context,\\n            );\\n        }\\n    };\\n    var json_data = {\\\"formatted_vals\\\":[\\\"1\\\",\\\"2\\\",\\\"3\\\",\\\"4\\\",\\\"5\\\",\\\"6\\\",\\\"7\\\",\\\"8\\\",\\\"9\\\",\\\"10\\\",\\\"11\\\",\\\"12\\\",\\\"13\\\",\\\"14\\\",\\\"15\\\"],\\\"changes\\\":WebIO.getval({\\\"name\\\":\\\"changes\\\",\\\"scope\\\":\\\"14022254113807661544\\\",\\\"id\\\":\\\"9926151349935768471\\\",\\\"type\\\":\\\"observable\\\"}),\\\"index\\\":WebIO.getval({\\\"name\\\":\\\"index\\\",\\\"scope\\\":\\\"14022254113807661544\\\",\\\"id\\\":\\\"16287225983184776064\\\",\\\"type\\\":\\\"observable\\\"})};\\n    var self = this;\\n    function AppViewModel() {\\n        for (var key in json_data) {\\n            var el = json_data[key];\\n            this[key] = Array.isArray(el) ? ko.observableArray(el) : ko.observable(el);\\n        }\\n        \\n        [this[\\\"formatted_val\\\"]=ko.computed(    function(){\\n        return this.formatted_vals()[parseInt(this.index())-(1)];\\n    }\\n,this)]\\n        [this[\\\"changes\\\"].subscribe((function (val){!(this.valueFromJulia[\\\"changes\\\"]) ? (WebIO.setval({\\\"name\\\":\\\"changes\\\",\\\"scope\\\":\\\"14022254113807661544\\\",\\\"id\\\":\\\"9926151349935768471\\\",\\\"type\\\":\\\"observable\\\"},val)) : undefined; return this.valueFromJulia[\\\"changes\\\"]=false}),self),this[\\\"index\\\"].subscribe((function (val){!(this.valueFromJulia[\\\"index\\\"]) ? (WebIO.setval({\\\"name\\\":\\\"index\\\",\\\"scope\\\":\\\"14022254113807661544\\\",\\\"id\\\":\\\"16287225983184776064\\\",\\\"type\\\":\\\"observable\\\"},val)) : undefined; return this.valueFromJulia[\\\"index\\\"]=false}),self)]\\n        \\n    }\\n    self.model = new AppViewModel();\\n    self.valueFromJulia = {};\\n    for (var key in json_data) {\\n        self.valueFromJulia[key] = false;\\n    }\\n    ko.applyBindings(self.model, self.dom);\\n}\\n);\\n    (WebIO.importBlock({\\\"data\\\":[{\\\"name\\\":\\\"knockout\\\",\\\"type\\\":\\\"js\\\",\\\"url\\\":\\\"/assetserver/a963c1b8a7754895043656177cb77e7b7fec989e-knockout.js\\\"},{\\\"name\\\":\\\"knockout_punches\\\",\\\"type\\\":\\\"js\\\",\\\"url\\\":\\\"/assetserver/d3553359b4c867bd6d9c495fad85bc715d024ca7-knockout_punches.js\\\"}],\\\"type\\\":\\\"async_block\\\"})).then((imports) => handler.apply(this, imports));\\n}\\n\")])], Dict{Symbol, Any}(:className => \"field interact-widget\")), Observable{Any} with 0 listeners. Value:\n",
       "Node{WebIO.DOM}(WebIO.DOM(:html, :div), Any[Plot{Plots.PlotlyBackend() n=5}], Dict{Symbol, Any}(:className => \"interact-flex-row interact-widget\"))], Dict{Symbol, Any}())"
      ]
     },
     "execution_count": 5,
     "metadata": {
      "application/vnd.webio.node+json": {
       "kernelId": "fb196639-73a2-46f0-bc5e-2b0c75f469c5"
      }
     },
     "output_type": "execute_result"
    }
   ],
   "source": [
    "@manipulate for n = 1:15\n",
    "\n",
    "    fig_size=(600, 400)\n",
    "\t\tf(x) = sin(x) #Solo miren esta línea,es donde digo que funcion quiero trabajar\n",
    "\t\tc = pi/3\n",
    "\t\th = 1.2^(-n) * pi/4\n",
    "\t\tm = (f(c+h) - f(c))/h\n",
    "\t\txs = collect(0:π/50:π)\n",
    "\t\tplt = plot(f, 0, pi, legend=false, size=fig_size)\n",
    "\t\tplot!(plt, xs, f(c) .+ cos(c)*(xs .- c), color=:orange)\n",
    "\t\tplot!(plt, xs, f(c) .+ m*(xs .- c), color=:black)\n",
    "\t\tscatter!(plt, [c,c+h], [f(c), f(c+h)], color=:orange, markersize=5)\n",
    "\n",
    "\t\tplot!(plt, [c, c+h, c+h], [f(c), f(c), f(c+h)], color=:gray30)\n",
    "\t\tannotate!(plt, [(c+h/2, f(c), text(\"Δx\", :top)), (c + h + .05, (f(c) + f(c + h))/2, text(\"Δy\", :left))])\n",
    "\n",
    "\t\tplt\n",
    "\t\n",
    "end"
   ]
  },
  {
   "cell_type": "code",
   "execution_count": 29,
   "id": "1f7322df",
   "metadata": {},
   "outputs": [
    {
     "data": {
      "application/vnd.webio.node+json": {
       "children": [
        {
         "children": [
          {
           "children": [
            {
             "children": [
              {
               "children": [
                {
                 "children": [
                  "n"
                 ],
                 "instanceArgs": {
                  "namespace": "html",
                  "tag": "label"
                 },
                 "nodeType": "DOM",
                 "props": {
                  "className": "interact ",
                  "style": {
                   "padding": "5px 10px 0px 10px"
                  }
                 },
                 "type": "node"
                }
               ],
               "instanceArgs": {
                "namespace": "html",
                "tag": "div"
               },
               "nodeType": "DOM",
               "props": {
                "className": "interact-flex-row-left"
               },
               "type": "node"
              },
              {
               "children": [
                {
                 "children": [],
                 "instanceArgs": {
                  "namespace": "html",
                  "tag": "input"
                 },
                 "nodeType": "DOM",
                 "props": {
                  "attributes": {
                   "data-bind": "numericValue: index, valueUpdate: 'input', event: {change: function (){this.changes(this.changes()+1)}}",
                   "orient": "horizontal",
                   "type": "range"
                  },
                  "className": "slider slider is-fullwidth",
                  "max": 100,
                  "min": 1,
                  "step": 1,
                  "style": {}
                 },
                 "type": "node"
                }
               ],
               "instanceArgs": {
                "namespace": "html",
                "tag": "div"
               },
               "nodeType": "DOM",
               "props": {
                "className": "interact-flex-row-center"
               },
               "type": "node"
              },
              {
               "children": [
                {
                 "children": [],
                 "instanceArgs": {
                  "namespace": "html",
                  "tag": "p"
                 },
                 "nodeType": "DOM",
                 "props": {
                  "attributes": {
                   "data-bind": "text: formatted_val"
                  }
                 },
                 "type": "node"
                }
               ],
               "instanceArgs": {
                "namespace": "html",
                "tag": "div"
               },
               "nodeType": "DOM",
               "props": {
                "className": "interact-flex-row-right"
               },
               "type": "node"
              }
             ],
             "instanceArgs": {
              "namespace": "html",
              "tag": "div"
             },
             "nodeType": "DOM",
             "props": {
              "className": "interact-flex-row interact-widget"
             },
             "type": "node"
            }
           ],
           "instanceArgs": {
            "handlers": {
             "changes": [
              "(function (val){return (val!=this.model[\"changes\"]()) ? (this.valueFromJulia[\"changes\"]=true, this.model[\"changes\"](val)) : undefined})"
             ],
             "index": [
              "(function (val){return (val!=this.model[\"index\"]()) ? (this.valueFromJulia[\"index\"]=true, this.model[\"index\"](val)) : undefined})"
             ]
            },
            "id": "6934385659539332813",
            "imports": {
             "data": [
              {
               "name": "knockout",
               "type": "js",
               "url": "/assetserver/a963c1b8a7754895043656177cb77e7b7fec989e-knockout.js"
              },
              {
               "name": "knockout_punches",
               "type": "js",
               "url": "/assetserver/d3553359b4c867bd6d9c495fad85bc715d024ca7-knockout_punches.js"
              },
              {
               "name": null,
               "type": "js",
               "url": "/assetserver/39ffd49c7b2c4055afb9b2d90a2236e85c963419-all.js"
              },
              {
               "name": null,
               "type": "css",
               "url": "/assetserver/735272bede921c68143b862265d877ddcb190297-style.css"
              },
              {
               "name": null,
               "type": "css",
               "url": "/assetserver/e1bf136134c1dc3c2ee7f6ee3a5f282fa21338d0-bulma_confined.min.css"
              }
             ],
             "type": "async_block"
            },
            "mount_callbacks": [
             "function () {\n    var handler = (function (ko, koPunches) {\n    ko.punches.enableAll();\n    ko.bindingHandlers.numericValue = {\n        init: function(element, valueAccessor, allBindings, data, context) {\n            var stringified = ko.observable(ko.unwrap(valueAccessor()));\n            stringified.subscribe(function(value) {\n                var val = parseFloat(value);\n                if (!isNaN(val)) {\n                    valueAccessor()(val);\n                }\n            });\n            valueAccessor().subscribe(function(value) {\n                var str = JSON.stringify(value);\n                if ((str == \"0\") && ([\"-0\", \"-0.\"].indexOf(stringified()) >= 0))\n                     return;\n                 if ([\"null\", \"\"].indexOf(str) >= 0)\n                     return;\n                stringified(str);\n            });\n            ko.applyBindingsToNode(\n                element,\n                {\n                    value: stringified,\n                    valueUpdate: allBindings.get('valueUpdate'),\n                },\n                context,\n            );\n        }\n    };\n    var json_data = {\"formatted_vals\":[\"1\",\"2\",\"3\",\"4\",\"5\",\"6\",\"7\",\"8\",\"9\",\"10\",\"11\",\"12\",\"13\",\"14\",\"15\",\"16\",\"17\",\"18\",\"19\",\"20\",\"21\",\"22\",\"23\",\"24\",\"25\",\"26\",\"27\",\"28\",\"29\",\"30\",\"31\",\"32\",\"33\",\"34\",\"35\",\"36\",\"37\",\"38\",\"39\",\"40\",\"41\",\"42\",\"43\",\"44\",\"45\",\"46\",\"47\",\"48\",\"49\",\"50\",\"51\",\"52\",\"53\",\"54\",\"55\",\"56\",\"57\",\"58\",\"59\",\"60\",\"61\",\"62\",\"63\",\"64\",\"65\",\"66\",\"67\",\"68\",\"69\",\"70\",\"71\",\"72\",\"73\",\"74\",\"75\",\"76\",\"77\",\"78\",\"79\",\"80\",\"81\",\"82\",\"83\",\"84\",\"85\",\"86\",\"87\",\"88\",\"89\",\"90\",\"91\",\"92\",\"93\",\"94\",\"95\",\"96\",\"97\",\"98\",\"99\",\"100\"],\"changes\":WebIO.getval({\"name\":\"changes\",\"scope\":\"6934385659539332813\",\"id\":\"12927197547047789410\",\"type\":\"observable\"}),\"index\":WebIO.getval({\"name\":\"index\",\"scope\":\"6934385659539332813\",\"id\":\"13863579456147490255\",\"type\":\"observable\"})};\n    var self = this;\n    function AppViewModel() {\n        for (var key in json_data) {\n            var el = json_data[key];\n            this[key] = Array.isArray(el) ? ko.observableArray(el) : ko.observable(el);\n        }\n        \n        [this[\"formatted_val\"]=ko.computed(    function(){\n        return this.formatted_vals()[parseInt(this.index())-(1)];\n    }\n,this)]\n        [this[\"changes\"].subscribe((function (val){!(this.valueFromJulia[\"changes\"]) ? (WebIO.setval({\"name\":\"changes\",\"scope\":\"6934385659539332813\",\"id\":\"12927197547047789410\",\"type\":\"observable\"},val)) : undefined; return this.valueFromJulia[\"changes\"]=false}),self),this[\"index\"].subscribe((function (val){!(this.valueFromJulia[\"index\"]) ? (WebIO.setval({\"name\":\"index\",\"scope\":\"6934385659539332813\",\"id\":\"13863579456147490255\",\"type\":\"observable\"},val)) : undefined; return this.valueFromJulia[\"index\"]=false}),self)]\n        \n    }\n    self.model = new AppViewModel();\n    self.valueFromJulia = {};\n    for (var key in json_data) {\n        self.valueFromJulia[key] = false;\n    }\n    ko.applyBindings(self.model, self.dom);\n}\n);\n    (WebIO.importBlock({\"data\":[{\"name\":\"knockout\",\"type\":\"js\",\"url\":\"/assetserver/a963c1b8a7754895043656177cb77e7b7fec989e-knockout.js\"},{\"name\":\"knockout_punches\",\"type\":\"js\",\"url\":\"/assetserver/d3553359b4c867bd6d9c495fad85bc715d024ca7-knockout_punches.js\"}],\"type\":\"async_block\"})).then((imports) => handler.apply(this, imports));\n}\n"
            ],
            "observables": {
             "changes": {
              "id": "12927197547047789410",
              "sync": false,
              "value": 0
             },
             "index": {
              "id": "13863579456147490255",
              "sync": true,
              "value": 50
             }
            },
            "systemjs_options": null
           },
           "nodeType": "Scope",
           "props": {},
           "type": "node"
          }
         ],
         "instanceArgs": {
          "namespace": "html",
          "tag": "div"
         },
         "nodeType": "DOM",
         "props": {
          "className": "field interact-widget"
         },
         "type": "node"
        },
        {
         "children": [
          {
           "children": [],
           "instanceArgs": {
            "id": "3876537467116761720",
            "name": "obs-node"
           },
           "nodeType": "ObservableNode",
           "props": {},
           "type": "node"
          }
         ],
         "instanceArgs": {
          "handlers": {},
          "id": "7352479543103705537",
          "imports": {
           "data": [],
           "type": "async_block"
          },
          "mount_callbacks": [],
          "observables": {
           "obs-node": {
            "id": "3876537467116761720",
            "sync": false,
            "value": {
             "children": [
              {
               "children": [],
               "instanceArgs": {
                "namespace": "html",
                "tag": "div"
               },
               "nodeType": "DOM",
               "props": {
                "setInnerHtml": "<!DOCTYPE html>\n<html>\n    <head>\n        <title>Plots.jl</title>\n        <meta http-equiv=\"content-type\" content=\"text/html; charset=UTF-8\">\n        \n    </head>\n    <body>\n            <div id=\"5b8220fd-77a9-4853-977f-695803a05800\" style=\"width:600px;height:400px;\"></div>\n    <script>\n        requirejs.config({\n        paths: {\n            Plotly: 'https://cdn.plot.ly/plotly-1.57.1.min'\n        }\n    });\n    require(['Plotly'], function (Plotly) {\n\n    PLOT = document.getElementById('5b8220fd-77a9-4853-977f-695803a05800');\n    Plotly.plot(PLOT, [\n    {\n        \"xaxis\": \"x\",\n        \"colorbar\": {\n            \"title\": \"\"\n        },\n        \"yaxis\": \"y\",\n        \"x\": [\n            -5.0,\n            -4.951170904901059,\n            -4.9023418098021185,\n            -4.450846319059195,\n            -3.9993508283162718,\n            -3.7280208576300167,\n            -3.456690886943761,\n            -3.227284849893052,\n            -2.997878812842343,\n            -2.7486795562559143,\n            -2.499480299669486,\n            -2.2697406271616023,\n            -2.0400009546537183,\n            -1.7936957452944098,\n            -1.5473905359351015,\n            -1.2620217962748894,\n            -0.9766530566146772,\n            -0.7230509977522314,\n            -0.46944893888978556,\n            -0.24706278674379273,\n            -0.024676634597799892,\n            0.21778396597769734,\n            0.46024456655319457,\n            0.7041461770406577,\n            0.9480477875281209,\n            1.2177122068860817,\n            1.4873766262440427,\n            1.7439555168462386,\n            2.0005344074484346,\n            2.26731692128097,\n            2.5340994351135055,\n            2.758673485890978,\n            2.983247536668451,\n            3.257426998266046,\n            3.531606459863641,\n            3.789343240575363,\n            4.047080021287085,\n            4.459994330723842,\n            4.872908640160599,\n            4.9364543200802995,\n            5.0\n        ],\n        \"showlegend\": true,\n        \"mode\": \"lines\",\n        \"name\": \"función\",\n        \"zmin\": null,\n        \"legendgroup\": \"función\",\n        \"zmax\": null,\n        \"line\": {\n            \"color\": \"rgba(0, 154, 250, 1.000)\",\n            \"shape\": \"linear\",\n            \"dash\": \"solid\",\n            \"width\": 1\n        },\n        \"y\": [\n            25.0,\n            24.514093329538774,\n            24.03295522013391,\n            19.81003295588279,\n            15.99480704795405,\n            13.898139514924445,\n            11.948711887880046,\n            10.41536750234922,\n            8.987277376489015,\n            7.55523930297921,\n            6.2474017684358625,\n            5.151722514587944,\n            4.161603894988082,\n            3.2173444266872684,\n            2.3944174707015207,\n            1.5926990142728985,\n            0.9538511929947918,\n            0.5228027453504973,\n            0.2203823062247456,\n            0.0610400205936088,\n            0.0006089362950733346,\n            0.04742985583697483,\n            0.21182506104173796,\n            0.4958218386409733,\n            0.898794607436965,\n            1.4828230187993716,\n            2.2122892282971107,\n            3.0413808447384314,\n            4.00213791538506,\n            5.140726021527016,\n            6.421659947042588,\n            7.6102794017578805,\n            8.89976586503838,\n            10.610830649032543,\n            12.472244187350599,\n            14.359122194894193,\n            16.378856698701075,\n            19.891549430088812,\n            23.74523861535182,\n            24.36858125423945,\n            25.0\n        ],\n        \"type\": \"scatter\"\n    },\n    {\n        \"xaxis\": \"x\",\n        \"colorbar\": {\n            \"title\": \"\"\n        },\n        \"yaxis\": \"y\",\n        \"x\": [\n            -5.0,\n            -4.9,\n            -4.8,\n            -4.7,\n            -4.6,\n            -4.5,\n            -4.4,\n            -4.3,\n            -4.2,\n            -4.1,\n            -4.0,\n            -3.9,\n            -3.8,\n            -3.7,\n            -3.6,\n            -3.5,\n            -3.4,\n            -3.3,\n            -3.2,\n            -3.1,\n            -3.0,\n            -2.9,\n            -2.8,\n            -2.7,\n            -2.6,\n            -2.5,\n            -2.4,\n            -2.3,\n            -2.2,\n            -2.1,\n            -2.0,\n            -1.9,\n            -1.8,\n            -1.7,\n            -1.6,\n            -1.5,\n            -1.4,\n            -1.3,\n            -1.2,\n            -1.1,\n            -1.0,\n            -0.9,\n            -0.8,\n            -0.7,\n            -0.6,\n            -0.5,\n            -0.4,\n            -0.3,\n            -0.2,\n            -0.1,\n            0.0,\n            0.1,\n            0.2,\n            0.3,\n            0.4,\n            0.5,\n            0.6,\n            0.7,\n            0.8,\n            0.9,\n            1.0,\n            1.1,\n            1.2,\n            1.3,\n            1.4,\n            1.5,\n            1.6,\n            1.7,\n            1.8,\n            1.9,\n            2.0,\n            2.1,\n            2.2,\n            2.3,\n            2.4,\n            2.5,\n            2.6,\n            2.7,\n            2.8,\n            2.9,\n            3.0,\n            3.1,\n            3.2,\n            3.3,\n            3.4,\n            3.5,\n            3.6,\n            3.7,\n            3.8,\n            3.9,\n            4.0,\n            4.1,\n            4.2,\n            4.3,\n            4.4,\n            4.5,\n            4.6,\n            4.7,\n            4.8,\n            4.9,\n            5.0\n        ],\n        \"showlegend\": true,\n        \"mode\": \"lines\",\n        \"name\": \"recta tangente\",\n        \"zmin\": null,\n        \"legendgroup\": \"recta tangente\",\n        \"zmax\": null,\n        \"line\": {\n            \"color\": \"rgba(255, 165, 0, 1.000)\",\n            \"shape\": \"linear\",\n            \"dash\": \"solid\",\n            \"width\": 1\n        },\n        \"y\": [\n            -11.0,\n            -10.8,\n            -10.6,\n            -10.4,\n            -10.2,\n            -10.0,\n            -9.8,\n            -9.6,\n            -9.4,\n            -9.2,\n            -9.0,\n            -8.8,\n            -8.6,\n            -8.4,\n            -8.2,\n            -8.0,\n            -7.800000000000001,\n            -7.6,\n            -7.4,\n            -7.199999999999999,\n            -7.0,\n            -6.8,\n            -6.6,\n            -6.4,\n            -6.2,\n            -6.0,\n            -5.8,\n            -5.6,\n            -5.4,\n            -5.2,\n            -5.0,\n            -4.8,\n            -4.6,\n            -4.4,\n            -4.2,\n            -4.0,\n            -3.8,\n            -3.5999999999999996,\n            -3.4000000000000004,\n            -3.2,\n            -3.0,\n            -2.8,\n            -2.6,\n            -2.4,\n            -2.2,\n            -2.0,\n            -1.7999999999999998,\n            -1.6,\n            -1.4,\n            -1.2000000000000002,\n            -1.0,\n            -0.8,\n            -0.6000000000000001,\n            -0.3999999999999999,\n            -0.19999999999999996,\n            0.0,\n            0.19999999999999996,\n            0.3999999999999999,\n            0.6000000000000001,\n            0.8,\n            1.0,\n            1.2000000000000002,\n            1.4,\n            1.6,\n            1.7999999999999998,\n            2.0,\n            2.2,\n            2.4,\n            2.6,\n            2.8,\n            3.0,\n            3.2,\n            3.4000000000000004,\n            3.5999999999999996,\n            3.8,\n            4.0,\n            4.2,\n            4.4,\n            4.6,\n            4.8,\n            5.0,\n            5.2,\n            5.4,\n            5.6,\n            5.8,\n            6.0,\n            6.2,\n            6.4,\n            6.6,\n            6.8,\n            7.0,\n            7.199999999999999,\n            7.4,\n            7.6,\n            7.800000000000001,\n            8.0,\n            8.2,\n            8.4,\n            8.6,\n            8.8,\n            9.0\n        ],\n        \"type\": \"scatter\"\n    },\n    {\n        \"xaxis\": \"x\",\n        \"colorbar\": {\n            \"title\": \"\"\n        },\n        \"yaxis\": \"y\",\n        \"x\": [\n            -5.0,\n            -4.9,\n            -4.8,\n            -4.7,\n            -4.6,\n            -4.5,\n            -4.4,\n            -4.3,\n            -4.2,\n            -4.1,\n            -4.0,\n            -3.9,\n            -3.8,\n            -3.7,\n            -3.6,\n            -3.5,\n            -3.4,\n            -3.3,\n            -3.2,\n            -3.1,\n            -3.0,\n            -2.9,\n            -2.8,\n            -2.7,\n            -2.6,\n            -2.5,\n            -2.4,\n            -2.3,\n            -2.2,\n            -2.1,\n            -2.0,\n            -1.9,\n            -1.8,\n            -1.7,\n            -1.6,\n            -1.5,\n            -1.4,\n            -1.3,\n            -1.2,\n            -1.1,\n            -1.0,\n            -0.9,\n            -0.8,\n            -0.7,\n            -0.6,\n            -0.5,\n            -0.4,\n            -0.3,\n            -0.2,\n            -0.1,\n            0.0,\n            0.1,\n            0.2,\n            0.3,\n            0.4,\n            0.5,\n            0.6,\n            0.7,\n            0.8,\n            0.9,\n            1.0,\n            1.1,\n            1.2,\n            1.3,\n            1.4,\n            1.5,\n            1.6,\n            1.7,\n            1.8,\n            1.9,\n            2.0,\n            2.1,\n            2.2,\n            2.3,\n            2.4,\n            2.5,\n            2.6,\n            2.7,\n            2.8,\n            2.9,\n            3.0,\n            3.1,\n            3.2,\n            3.3,\n            3.4,\n            3.5,\n            3.6,\n            3.7,\n            3.8,\n            3.9,\n            4.0,\n            4.1,\n            4.2,\n            4.3,\n            4.4,\n            4.5,\n            4.6,\n            4.7,\n            4.8,\n            4.9,\n            5.0\n        ],\n        \"showlegend\": true,\n        \"mode\": \"lines\",\n        \"name\": \"recta secante\",\n        \"zmin\": null,\n        \"legendgroup\": \"recta secante\",\n        \"zmax\": null,\n        \"line\": {\n            \"color\": \"rgba(0, 0, 0, 1.000)\",\n            \"shape\": \"linear\",\n            \"dash\": \"solid\",\n            \"width\": 1\n        },\n        \"y\": [\n            -11.523222361834282,\n            -11.314501989137044,\n            -11.105781616439804,\n            -10.897061243742568,\n            -10.688340871045328,\n            -10.47962049834809,\n            -10.270900125650854,\n            -10.062179752953615,\n            -9.853459380256378,\n            -9.644739007559139,\n            -9.4360186348619,\n            -9.227298262164664,\n            -9.018577889467425,\n            -8.809857516770187,\n            -8.601137144072949,\n            -8.39241677137571,\n            -8.183696398678475,\n            -7.974976025981235,\n            -7.766255653283997,\n            -7.557535280586759,\n            -7.348814907889521,\n            -7.140094535192283,\n            -6.931374162495044,\n            -6.722653789797807,\n            -6.513933417100569,\n            -6.305213044403331,\n            -6.096492671706092,\n            -5.887772299008854,\n            -5.679051926311617,\n            -5.470331553614379,\n            -5.261611180917141,\n            -5.052890808219902,\n            -4.844170435522664,\n            -4.635450062825427,\n            -4.426729690128189,\n            -4.21800931743095,\n            -4.009288944733712,\n            -3.8005685720364744,\n            -3.5918481993392373,\n            -3.3831278266419984,\n            -3.1744074539447604,\n            -2.965687081247522,\n            -2.7569667085502845,\n            -2.548246335853046,\n            -2.3395259631558085,\n            -2.1308055904585705,\n            -1.9220852177613321,\n            -1.7133648450640946,\n            -1.5046444723668562,\n            -1.2959240996696186,\n            -1.0872037269723802,\n            -0.8784833542751422,\n            -0.6697629815779043,\n            -0.46104260888066606,\n            -0.2523222361834281,\n            -0.04360186348619011,\n            0.16511850921104787,\n            0.37383888190828585,\n            0.582559254605524,\n            0.791279627302762,\n            1.0,\n            1.2087203726972382,\n            1.417440745394476,\n            1.6261611180917142,\n            1.834881490788952,\n            2.04360186348619,\n            2.2523222361834283,\n            2.461042608880666,\n            2.6697629815779043,\n            2.878483354275142,\n            3.08720372697238,\n            3.2959240996696186,\n            3.5046444723668566,\n            3.7133648450640937,\n            3.922085217761332,\n            4.1308055904585705,\n            4.3395259631558085,\n            4.548246335853047,\n            4.756966708550284,\n            4.965687081247522,\n            5.17440745394476,\n            5.383127826641998,\n            5.591848199339237,\n            5.800568572036474,\n            6.009288944733712,\n            6.21800931743095,\n            6.426729690128189,\n            6.635450062825427,\n            6.844170435522664,\n            7.052890808219902,\n            7.261611180917141,\n            7.470331553614378,\n            7.679051926311617,\n            7.887772299008854,\n            8.096492671706095,\n            8.305213044403331,\n            8.513933417100567,\n            8.722653789797807,\n            8.931374162495043,\n            9.140094535192283,\n            9.34881490788952\n        ],\n        \"type\": \"scatter\"\n    },\n    {\n        \"xaxis\": \"x\",\n        \"colorbar\": {\n            \"title\": \"\"\n        },\n        \"yaxis\": \"y\",\n        \"x\": [\n            1.0,\n            1.0872037269723804\n        ],\n        \"showlegend\": false,\n        \"mode\": \"markers\",\n        \"name\": \"\",\n        \"zmin\": null,\n        \"legendgroup\": \"\",\n        \"marker\": {\n            \"symbol\": \"circle\",\n            \"color\": \"rgba(255, 165, 0, 1.000)\",\n            \"line\": {\n                \"color\": \"rgba(0, 0, 0, 1.000)\",\n                \"width\": 1\n            },\n            \"size\": 10\n        },\n        \"zmax\": null,\n        \"y\": [\n            1.0,\n            1.1820119439426344\n        ],\n        \"type\": \"scatter\"\n    },\n    {\n        \"xaxis\": \"x\",\n        \"colorbar\": {\n            \"title\": \"\"\n        },\n        \"yaxis\": \"y\",\n        \"x\": [\n            1.0,\n            1.0872037269723804,\n            1.0872037269723804\n        ],\n        \"showlegend\": false,\n        \"mode\": \"lines\",\n        \"name\": \"\",\n        \"zmin\": null,\n        \"legendgroup\": \"\",\n        \"zmax\": null,\n        \"line\": {\n            \"color\": \"rgba(77, 77, 77, 1.000)\",\n            \"shape\": \"linear\",\n            \"dash\": \"solid\",\n            \"width\": 1\n        },\n        \"y\": [\n            1.0,\n            1.0,\n            1.1820119439426344\n        ],\n        \"type\": \"scatter\"\n    }\n]\n, {\n    \"showlegend\": true,\n    \"xaxis\": {\n        \"showticklabels\": true,\n        \"gridwidth\": 0.5,\n        \"tickvals\": [\n            -4.0,\n            -2.0,\n            0.0,\n            2.0,\n            4.0\n        ],\n        \"range\": [\n            -5.3,\n            5.3\n        ],\n        \"domain\": [\n            0.05100612423447069,\n            0.9934383202099737\n        ],\n        \"mirror\": false,\n        \"tickangle\": 0,\n        \"showline\": true,\n        \"ticktext\": [\n            \"−4\",\n            \"−2\",\n            \"0\",\n            \"2\",\n            \"4\"\n        ],\n        \"zeroline\": false,\n        \"tickfont\": {\n            \"color\": \"rgba(0, 0, 0, 1.000)\",\n            \"family\": \"sans-serif\",\n            \"size\": 11\n        },\n        \"zerolinecolor\": \"rgba(0, 0, 0, 1.000)\",\n        \"anchor\": \"y\",\n        \"visible\": true,\n        \"ticks\": \"inside\",\n        \"tickmode\": \"array\",\n        \"linecolor\": \"rgba(0, 0, 0, 1.000)\",\n        \"showgrid\": true,\n        \"title\": \"\",\n        \"gridcolor\": \"rgba(0, 0, 0, 0.100)\",\n        \"titlefont\": {\n            \"color\": \"rgba(0, 0, 0, 1.000)\",\n            \"family\": \"sans-serif\",\n            \"size\": 15\n        },\n        \"tickcolor\": \"rgb(0, 0, 0)\",\n        \"type\": \"-\"\n    },\n    \"paper_bgcolor\": \"rgba(255, 255, 255, 1.000)\",\n    \"annotations\": [\n        {\n            \"yanchor\": \"top\",\n            \"xanchor\": \"center\",\n            \"rotation\": -0.0,\n            \"y\": 1,\n            \"font\": {\n                \"color\": \"rgba(0, 0, 0, 1.000)\",\n                \"family\": \"sans-serif\",\n                \"size\": 20\n            },\n            \"yref\": \"y\",\n            \"showarrow\": false,\n            \"text\": \"Δx\",\n            \"xref\": \"x\",\n            \"x\": 1.0436018634861903\n        },\n        {\n            \"yanchor\": \"middle\",\n            \"xanchor\": \"left\",\n            \"rotation\": -0.0,\n            \"y\": 1.0910059719713172,\n            \"font\": {\n                \"color\": \"rgba(0, 0, 0, 1.000)\",\n                \"family\": \"sans-serif\",\n                \"size\": 20\n            },\n            \"yref\": \"y\",\n            \"showarrow\": false,\n            \"text\": \"Δy\",\n            \"xref\": \"x\",\n            \"x\": 1.1372037269723805\n        }\n    ],\n    \"height\": 400,\n    \"margin\": {\n        \"l\": 0,\n        \"b\": 20,\n        \"r\": 0,\n        \"t\": 20\n    },\n    \"plot_bgcolor\": \"rgba(255, 255, 255, 1.000)\",\n    \"yaxis\": {\n        \"showticklabels\": true,\n        \"gridwidth\": 0.5,\n        \"tickvals\": [\n            -10.0,\n            0.0,\n            10.0,\n            20.0\n        ],\n        \"range\": [\n            -12.61891903268931,\n            26.095696670855027\n        ],\n        \"domain\": [\n            0.03762029746281716,\n            0.9901574803149606\n        ],\n        \"mirror\": false,\n        \"tickangle\": 0,\n        \"showline\": true,\n        \"ticktext\": [\n            \"−10\",\n            \"0\",\n            \"10\",\n            \"20\"\n        ],\n        \"zeroline\": false,\n        \"tickfont\": {\n            \"color\": \"rgba(0, 0, 0, 1.000)\",\n            \"family\": \"sans-serif\",\n            \"size\": 11\n        },\n        \"zerolinecolor\": \"rgba(0, 0, 0, 1.000)\",\n        \"anchor\": \"x\",\n        \"visible\": true,\n        \"ticks\": \"inside\",\n        \"tickmode\": \"array\",\n        \"linecolor\": \"rgba(0, 0, 0, 1.000)\",\n        \"showgrid\": true,\n        \"title\": \"\",\n        \"gridcolor\": \"rgba(0, 0, 0, 0.100)\",\n        \"titlefont\": {\n            \"color\": \"rgba(0, 0, 0, 1.000)\",\n            \"family\": \"sans-serif\",\n            \"size\": 15\n        },\n        \"tickcolor\": \"rgb(0, 0, 0)\",\n        \"type\": \"-\"\n    },\n    \"legend\": {\n        \"yanchor\": \"auto\",\n        \"xanchor\": \"auto\",\n        \"bordercolor\": \"rgba(0, 0, 0, 1.000)\",\n        \"bgcolor\": \"rgba(255, 255, 255, 1.000)\",\n        \"borderwidth\": 1,\n        \"tracegroupgap\": 0,\n        \"y\": 1.0,\n        \"font\": {\n            \"color\": \"rgba(0, 0, 0, 1.000)\",\n            \"family\": \"sans-serif\",\n            \"size\": 11\n        },\n        \"title\": {\n            \"font\": {\n                \"color\": \"rgba(0, 0, 0, 1.000)\",\n                \"family\": \"sans-serif\",\n                \"size\": 15\n            },\n            \"text\": \"\"\n        },\n        \"traceorder\": \"normal\",\n        \"x\": 1.0\n    },\n    \"width\": 600\n}\n);\n    });\n    </script>\n\n    </body>\n</html>\n"
               },
               "type": "node"
              }
             ],
             "instanceArgs": {
              "namespace": "html",
              "tag": "div"
             },
             "nodeType": "DOM",
             "props": {
              "className": "interact-flex-row interact-widget"
             },
             "type": "node"
            }
           }
          },
          "systemjs_options": null
         },
         "nodeType": "Scope",
         "props": {},
         "type": "node"
        }
       ],
       "instanceArgs": {
        "namespace": "html",
        "tag": "div"
       },
       "nodeType": "DOM",
       "props": {},
       "type": "node"
      },
      "text/html": [
       "<div\n",
       "    class=\"webio-mountpoint\"\n",
       "    data-webio-mountpoint=\"9936224558974744163\"\n",
       ">\n",
       "    <script>\n",
       "    if (window.require && require.defined && require.defined(\"nbextensions/webio-jupyter-notebook\")) {\n",
       "        console.log(\"Jupyter WebIO extension detected, not mounting.\");\n",
       "    } else if (window.WebIO) {\n",
       "        WebIO.mount(\n",
       "            document.querySelector('[data-webio-mountpoint=\"9936224558974744163\"]'),\n",
       "            {\"props\":{},\"nodeType\":\"DOM\",\"type\":\"node\",\"instanceArgs\":{\"namespace\":\"html\",\"tag\":\"div\"},\"children\":[{\"props\":{\"className\":\"field interact-widget\"},\"nodeType\":\"DOM\",\"type\":\"node\",\"instanceArgs\":{\"namespace\":\"html\",\"tag\":\"div\"},\"children\":[{\"props\":{},\"nodeType\":\"Scope\",\"type\":\"node\",\"instanceArgs\":{\"imports\":{\"data\":[{\"name\":\"knockout\",\"type\":\"js\",\"url\":\"\\/assetserver\\/a963c1b8a7754895043656177cb77e7b7fec989e-knockout.js\"},{\"name\":\"knockout_punches\",\"type\":\"js\",\"url\":\"\\/assetserver\\/d3553359b4c867bd6d9c495fad85bc715d024ca7-knockout_punches.js\"},{\"name\":null,\"type\":\"js\",\"url\":\"\\/assetserver\\/39ffd49c7b2c4055afb9b2d90a2236e85c963419-all.js\"},{\"name\":null,\"type\":\"css\",\"url\":\"\\/assetserver\\/735272bede921c68143b862265d877ddcb190297-style.css\"},{\"name\":null,\"type\":\"css\",\"url\":\"\\/assetserver\\/e1bf136134c1dc3c2ee7f6ee3a5f282fa21338d0-bulma_confined.min.css\"}],\"type\":\"async_block\"},\"id\":\"6934385659539332813\",\"handlers\":{\"changes\":[\"(function (val){return (val!=this.model[\\\"changes\\\"]()) ? (this.valueFromJulia[\\\"changes\\\"]=true, this.model[\\\"changes\\\"](val)) : undefined})\"],\"index\":[\"(function (val){return (val!=this.model[\\\"index\\\"]()) ? (this.valueFromJulia[\\\"index\\\"]=true, this.model[\\\"index\\\"](val)) : undefined})\"]},\"systemjs_options\":null,\"mount_callbacks\":[\"function () {\\n    var handler = (function (ko, koPunches) {\\n    ko.punches.enableAll();\\n    ko.bindingHandlers.numericValue = {\\n        init: function(element, valueAccessor, allBindings, data, context) {\\n            var stringified = ko.observable(ko.unwrap(valueAccessor()));\\n            stringified.subscribe(function(value) {\\n                var val = parseFloat(value);\\n                if (!isNaN(val)) {\\n                    valueAccessor()(val);\\n                }\\n            });\\n            valueAccessor().subscribe(function(value) {\\n                var str = JSON.stringify(value);\\n                if ((str == \\\"0\\\") && ([\\\"-0\\\", \\\"-0.\\\"].indexOf(stringified()) >= 0))\\n                     return;\\n                 if ([\\\"null\\\", \\\"\\\"].indexOf(str) >= 0)\\n                     return;\\n                stringified(str);\\n            });\\n            ko.applyBindingsToNode(\\n                element,\\n                {\\n                    value: stringified,\\n                    valueUpdate: allBindings.get('valueUpdate'),\\n                },\\n                context,\\n            );\\n        }\\n    };\\n    var json_data = {\\\"formatted_vals\\\":[\\\"1\\\",\\\"2\\\",\\\"3\\\",\\\"4\\\",\\\"5\\\",\\\"6\\\",\\\"7\\\",\\\"8\\\",\\\"9\\\",\\\"10\\\",\\\"11\\\",\\\"12\\\",\\\"13\\\",\\\"14\\\",\\\"15\\\",\\\"16\\\",\\\"17\\\",\\\"18\\\",\\\"19\\\",\\\"20\\\",\\\"21\\\",\\\"22\\\",\\\"23\\\",\\\"24\\\",\\\"25\\\",\\\"26\\\",\\\"27\\\",\\\"28\\\",\\\"29\\\",\\\"30\\\",\\\"31\\\",\\\"32\\\",\\\"33\\\",\\\"34\\\",\\\"35\\\",\\\"36\\\",\\\"37\\\",\\\"38\\\",\\\"39\\\",\\\"40\\\",\\\"41\\\",\\\"42\\\",\\\"43\\\",\\\"44\\\",\\\"45\\\",\\\"46\\\",\\\"47\\\",\\\"48\\\",\\\"49\\\",\\\"50\\\",\\\"51\\\",\\\"52\\\",\\\"53\\\",\\\"54\\\",\\\"55\\\",\\\"56\\\",\\\"57\\\",\\\"58\\\",\\\"59\\\",\\\"60\\\",\\\"61\\\",\\\"62\\\",\\\"63\\\",\\\"64\\\",\\\"65\\\",\\\"66\\\",\\\"67\\\",\\\"68\\\",\\\"69\\\",\\\"70\\\",\\\"71\\\",\\\"72\\\",\\\"73\\\",\\\"74\\\",\\\"75\\\",\\\"76\\\",\\\"77\\\",\\\"78\\\",\\\"79\\\",\\\"80\\\",\\\"81\\\",\\\"82\\\",\\\"83\\\",\\\"84\\\",\\\"85\\\",\\\"86\\\",\\\"87\\\",\\\"88\\\",\\\"89\\\",\\\"90\\\",\\\"91\\\",\\\"92\\\",\\\"93\\\",\\\"94\\\",\\\"95\\\",\\\"96\\\",\\\"97\\\",\\\"98\\\",\\\"99\\\",\\\"100\\\"],\\\"changes\\\":WebIO.getval({\\\"name\\\":\\\"changes\\\",\\\"scope\\\":\\\"6934385659539332813\\\",\\\"id\\\":\\\"12927197547047789410\\\",\\\"type\\\":\\\"observable\\\"}),\\\"index\\\":WebIO.getval({\\\"name\\\":\\\"index\\\",\\\"scope\\\":\\\"6934385659539332813\\\",\\\"id\\\":\\\"13863579456147490255\\\",\\\"type\\\":\\\"observable\\\"})};\\n    var self = this;\\n    function AppViewModel() {\\n        for (var key in json_data) {\\n            var el = json_data[key];\\n            this[key] = Array.isArray(el) ? ko.observableArray(el) : ko.observable(el);\\n        }\\n        \\n        [this[\\\"formatted_val\\\"]=ko.computed(    function(){\\n        return this.formatted_vals()[parseInt(this.index())-(1)];\\n    }\\n,this)]\\n        [this[\\\"changes\\\"].subscribe((function (val){!(this.valueFromJulia[\\\"changes\\\"]) ? (WebIO.setval({\\\"name\\\":\\\"changes\\\",\\\"scope\\\":\\\"6934385659539332813\\\",\\\"id\\\":\\\"12927197547047789410\\\",\\\"type\\\":\\\"observable\\\"},val)) : undefined; return this.valueFromJulia[\\\"changes\\\"]=false}),self),this[\\\"index\\\"].subscribe((function (val){!(this.valueFromJulia[\\\"index\\\"]) ? (WebIO.setval({\\\"name\\\":\\\"index\\\",\\\"scope\\\":\\\"6934385659539332813\\\",\\\"id\\\":\\\"13863579456147490255\\\",\\\"type\\\":\\\"observable\\\"},val)) : undefined; return this.valueFromJulia[\\\"index\\\"]=false}),self)]\\n        \\n    }\\n    self.model = new AppViewModel();\\n    self.valueFromJulia = {};\\n    for (var key in json_data) {\\n        self.valueFromJulia[key] = false;\\n    }\\n    ko.applyBindings(self.model, self.dom);\\n}\\n);\\n    (WebIO.importBlock({\\\"data\\\":[{\\\"name\\\":\\\"knockout\\\",\\\"type\\\":\\\"js\\\",\\\"url\\\":\\\"\\/assetserver\\/a963c1b8a7754895043656177cb77e7b7fec989e-knockout.js\\\"},{\\\"name\\\":\\\"knockout_punches\\\",\\\"type\\\":\\\"js\\\",\\\"url\\\":\\\"\\/assetserver\\/d3553359b4c867bd6d9c495fad85bc715d024ca7-knockout_punches.js\\\"}],\\\"type\\\":\\\"async_block\\\"})).then((imports) => handler.apply(this, imports));\\n}\\n\"],\"observables\":{\"changes\":{\"sync\":false,\"id\":\"12927197547047789410\",\"value\":0},\"index\":{\"sync\":true,\"id\":\"13863579456147490255\",\"value\":50}}},\"children\":[{\"props\":{\"className\":\"interact-flex-row interact-widget\"},\"nodeType\":\"DOM\",\"type\":\"node\",\"instanceArgs\":{\"namespace\":\"html\",\"tag\":\"div\"},\"children\":[{\"props\":{\"className\":\"interact-flex-row-left\"},\"nodeType\":\"DOM\",\"type\":\"node\",\"instanceArgs\":{\"namespace\":\"html\",\"tag\":\"div\"},\"children\":[{\"props\":{\"className\":\"interact \",\"style\":{\"padding\":\"5px 10px 0px 10px\"}},\"nodeType\":\"DOM\",\"type\":\"node\",\"instanceArgs\":{\"namespace\":\"html\",\"tag\":\"label\"},\"children\":[\"n\"]}]},{\"props\":{\"className\":\"interact-flex-row-center\"},\"nodeType\":\"DOM\",\"type\":\"node\",\"instanceArgs\":{\"namespace\":\"html\",\"tag\":\"div\"},\"children\":[{\"props\":{\"max\":100,\"min\":1,\"attributes\":{\"type\":\"range\",\"data-bind\":\"numericValue: index, valueUpdate: 'input', event: {change: function (){this.changes(this.changes()+1)}}\",\"orient\":\"horizontal\"},\"step\":1,\"className\":\"slider slider is-fullwidth\",\"style\":{}},\"nodeType\":\"DOM\",\"type\":\"node\",\"instanceArgs\":{\"namespace\":\"html\",\"tag\":\"input\"},\"children\":[]}]},{\"props\":{\"className\":\"interact-flex-row-right\"},\"nodeType\":\"DOM\",\"type\":\"node\",\"instanceArgs\":{\"namespace\":\"html\",\"tag\":\"div\"},\"children\":[{\"props\":{\"attributes\":{\"data-bind\":\"text: formatted_val\"}},\"nodeType\":\"DOM\",\"type\":\"node\",\"instanceArgs\":{\"namespace\":\"html\",\"tag\":\"p\"},\"children\":[]}]}]}]}]},{\"props\":{},\"nodeType\":\"Scope\",\"type\":\"node\",\"instanceArgs\":{\"imports\":{\"data\":[],\"type\":\"async_block\"},\"id\":\"8901618249715347505\",\"handlers\":{},\"systemjs_options\":null,\"mount_callbacks\":[],\"observables\":{\"obs-node\":{\"sync\":false,\"id\":\"1483044084957229295\",\"value\":{\"props\":{\"className\":\"interact-flex-row interact-widget\"},\"nodeType\":\"DOM\",\"type\":\"node\",\"instanceArgs\":{\"namespace\":\"html\",\"tag\":\"div\"},\"children\":[{\"props\":{\"setInnerHtml\":\"<!DOCTYPE html>\\n<html>\\n    <head>\\n        <title>Plots.jl<\\/title>\\n        <meta http-equiv=\\\"content-type\\\" content=\\\"text\\/html; charset=UTF-8\\\">\\n        \\n    <\\/head>\\n    <body>\\n            <div id=\\\"91acf657-a45f-4d4d-b1c3-62eafd4a00d8\\\" style=\\\"width:600px;height:400px;\\\"><\\/div>\\n    <script>\\n        requirejs.config({\\n        paths: {\\n            Plotly: 'https:\\/\\/cdn.plot.ly\\/plotly-1.57.1.min'\\n        }\\n    });\\n    require(['Plotly'], function (Plotly) {\\n\\n    PLOT = document.getElementById('91acf657-a45f-4d4d-b1c3-62eafd4a00d8');\\n    Plotly.plot(PLOT, [\\n    {\\n        \\\"xaxis\\\": \\\"x\\\",\\n        \\\"colorbar\\\": {\\n            \\\"title\\\": \\\"\\\"\\n        },\\n        \\\"yaxis\\\": \\\"y\\\",\\n        \\\"x\\\": [\\n            -5.0,\\n            -4.951170904901059,\\n            -4.9023418098021185,\\n            -4.450846319059195,\\n            -3.9993508283162718,\\n            -3.7280208576300167,\\n            -3.456690886943761,\\n            -3.227284849893052,\\n            -2.997878812842343,\\n            -2.7486795562559143,\\n            -2.499480299669486,\\n            -2.2697406271616023,\\n            -2.0400009546537183,\\n            -1.7936957452944098,\\n            -1.5473905359351015,\\n            -1.2620217962748894,\\n            -0.9766530566146772,\\n            -0.7230509977522314,\\n            -0.46944893888978556,\\n            -0.24706278674379273,\\n            -0.024676634597799892,\\n            0.21778396597769734,\\n            0.46024456655319457,\\n            0.7041461770406577,\\n            0.9480477875281209,\\n            1.2177122068860817,\\n            1.4873766262440427,\\n            1.7439555168462386,\\n            2.0005344074484346,\\n            2.26731692128097,\\n            2.5340994351135055,\\n            2.758673485890978,\\n            2.983247536668451,\\n            3.257426998266046,\\n            3.531606459863641,\\n            3.789343240575363,\\n            4.047080021287085,\\n            4.459994330723842,\\n            4.872908640160599,\\n            4.9364543200802995,\\n            5.0\\n        ],\\n        \\\"showlegend\\\": true,\\n        \\\"mode\\\": \\\"lines\\\",\\n        \\\"name\\\": \\\"función\\\",\\n        \\\"zmin\\\": null,\\n        \\\"legendgroup\\\": \\\"función\\\",\\n        \\\"zmax\\\": null,\\n        \\\"line\\\": {\\n            \\\"color\\\": \\\"rgba(0, 154, 250, 1.000)\\\",\\n            \\\"shape\\\": \\\"linear\\\",\\n            \\\"dash\\\": \\\"solid\\\",\\n            \\\"width\\\": 1\\n        },\\n        \\\"y\\\": [\\n            25.0,\\n            24.514093329538774,\\n            24.03295522013391,\\n            19.81003295588279,\\n            15.99480704795405,\\n            13.898139514924445,\\n            11.948711887880046,\\n            10.41536750234922,\\n            8.987277376489015,\\n            7.55523930297921,\\n            6.2474017684358625,\\n            5.151722514587944,\\n            4.161603894988082,\\n            3.2173444266872684,\\n            2.3944174707015207,\\n            1.5926990142728985,\\n            0.9538511929947918,\\n            0.5228027453504973,\\n            0.2203823062247456,\\n            0.0610400205936088,\\n            0.0006089362950733346,\\n            0.04742985583697483,\\n            0.21182506104173796,\\n            0.4958218386409733,\\n            0.898794607436965,\\n            1.4828230187993716,\\n            2.2122892282971107,\\n            3.0413808447384314,\\n            4.00213791538506,\\n            5.140726021527016,\\n            6.421659947042588,\\n            7.6102794017578805,\\n            8.89976586503838,\\n            10.610830649032543,\\n            12.472244187350599,\\n            14.359122194894193,\\n            16.378856698701075,\\n            19.891549430088812,\\n            23.74523861535182,\\n            24.36858125423945,\\n            25.0\\n        ],\\n        \\\"type\\\": \\\"scatter\\\"\\n    },\\n    {\\n        \\\"xaxis\\\": \\\"x\\\",\\n        \\\"colorbar\\\": {\\n            \\\"title\\\": \\\"\\\"\\n        },\\n        \\\"yaxis\\\": \\\"y\\\",\\n        \\\"x\\\": [\\n            -5.0,\\n            -4.9,\\n            -4.8,\\n            -4.7,\\n            -4.6,\\n            -4.5,\\n            -4.4,\\n            -4.3,\\n            -4.2,\\n            -4.1,\\n            -4.0,\\n            -3.9,\\n            -3.8,\\n            -3.7,\\n            -3.6,\\n            -3.5,\\n            -3.4,\\n            -3.3,\\n            -3.2,\\n            -3.1,\\n            -3.0,\\n            -2.9,\\n            -2.8,\\n            -2.7,\\n            -2.6,\\n            -2.5,\\n            -2.4,\\n            -2.3,\\n            -2.2,\\n            -2.1,\\n            -2.0,\\n            -1.9,\\n            -1.8,\\n            -1.7,\\n            -1.6,\\n            -1.5,\\n            -1.4,\\n            -1.3,\\n            -1.2,\\n            -1.1,\\n            -1.0,\\n            -0.9,\\n            -0.8,\\n            -0.7,\\n            -0.6,\\n            -0.5,\\n            -0.4,\\n            -0.3,\\n            -0.2,\\n            -0.1,\\n            0.0,\\n            0.1,\\n            0.2,\\n            0.3,\\n            0.4,\\n            0.5,\\n            0.6,\\n            0.7,\\n            0.8,\\n            0.9,\\n            1.0,\\n            1.1,\\n            1.2,\\n            1.3,\\n            1.4,\\n            1.5,\\n            1.6,\\n            1.7,\\n            1.8,\\n            1.9,\\n            2.0,\\n            2.1,\\n            2.2,\\n            2.3,\\n            2.4,\\n            2.5,\\n            2.6,\\n            2.7,\\n            2.8,\\n            2.9,\\n            3.0,\\n            3.1,\\n            3.2,\\n            3.3,\\n            3.4,\\n            3.5,\\n            3.6,\\n            3.7,\\n            3.8,\\n            3.9,\\n            4.0,\\n            4.1,\\n            4.2,\\n            4.3,\\n            4.4,\\n            4.5,\\n            4.6,\\n            4.7,\\n            4.8,\\n            4.9,\\n            5.0\\n        ],\\n        \\\"showlegend\\\": true,\\n        \\\"mode\\\": \\\"lines\\\",\\n        \\\"name\\\": \\\"recta tangente\\\",\\n        \\\"zmin\\\": null,\\n        \\\"legendgroup\\\": \\\"recta tangente\\\",\\n        \\\"zmax\\\": null,\\n        \\\"line\\\": {\\n            \\\"color\\\": \\\"rgba(255, 165, 0, 1.000)\\\",\\n            \\\"shape\\\": \\\"linear\\\",\\n            \\\"dash\\\": \\\"solid\\\",\\n            \\\"width\\\": 1\\n        },\\n        \\\"y\\\": [\\n            -11.0,\\n            -10.8,\\n            -10.6,\\n            -10.4,\\n            -10.2,\\n            -10.0,\\n            -9.8,\\n            -9.6,\\n            -9.4,\\n            -9.2,\\n            -9.0,\\n            -8.8,\\n            -8.6,\\n            -8.4,\\n            -8.2,\\n            -8.0,\\n            -7.800000000000001,\\n            -7.6,\\n            -7.4,\\n            -7.199999999999999,\\n            -7.0,\\n            -6.8,\\n            -6.6,\\n            -6.4,\\n            -6.2,\\n            -6.0,\\n            -5.8,\\n            -5.6,\\n            -5.4,\\n            -5.2,\\n            -5.0,\\n            -4.8,\\n            -4.6,\\n            -4.4,\\n            -4.2,\\n            -4.0,\\n            -3.8,\\n            -3.5999999999999996,\\n            -3.4000000000000004,\\n            -3.2,\\n            -3.0,\\n            -2.8,\\n            -2.6,\\n            -2.4,\\n            -2.2,\\n            -2.0,\\n            -1.7999999999999998,\\n            -1.6,\\n            -1.4,\\n            -1.2000000000000002,\\n            -1.0,\\n            -0.8,\\n            -0.6000000000000001,\\n            -0.3999999999999999,\\n            -0.19999999999999996,\\n            0.0,\\n            0.19999999999999996,\\n            0.3999999999999999,\\n            0.6000000000000001,\\n            0.8,\\n            1.0,\\n            1.2000000000000002,\\n            1.4,\\n            1.6,\\n            1.7999999999999998,\\n            2.0,\\n            2.2,\\n            2.4,\\n            2.6,\\n            2.8,\\n            3.0,\\n            3.2,\\n            3.4000000000000004,\\n            3.5999999999999996,\\n            3.8,\\n            4.0,\\n            4.2,\\n            4.4,\\n            4.6,\\n            4.8,\\n            5.0,\\n            5.2,\\n            5.4,\\n            5.6,\\n            5.8,\\n            6.0,\\n            6.2,\\n            6.4,\\n            6.6,\\n            6.8,\\n            7.0,\\n            7.199999999999999,\\n            7.4,\\n            7.6,\\n            7.800000000000001,\\n            8.0,\\n            8.2,\\n            8.4,\\n            8.6,\\n            8.8,\\n            9.0\\n        ],\\n        \\\"type\\\": \\\"scatter\\\"\\n    },\\n    {\\n        \\\"xaxis\\\": \\\"x\\\",\\n        \\\"colorbar\\\": {\\n            \\\"title\\\": \\\"\\\"\\n        },\\n        \\\"yaxis\\\": \\\"y\\\",\\n        \\\"x\\\": [\\n            -5.0,\\n            -4.9,\\n            -4.8,\\n            -4.7,\\n            -4.6,\\n            -4.5,\\n            -4.4,\\n            -4.3,\\n            -4.2,\\n            -4.1,\\n            -4.0,\\n            -3.9,\\n            -3.8,\\n            -3.7,\\n            -3.6,\\n            -3.5,\\n            -3.4,\\n            -3.3,\\n            -3.2,\\n            -3.1,\\n            -3.0,\\n            -2.9,\\n            -2.8,\\n            -2.7,\\n            -2.6,\\n            -2.5,\\n            -2.4,\\n            -2.3,\\n            -2.2,\\n            -2.1,\\n            -2.0,\\n            -1.9,\\n            -1.8,\\n            -1.7,\\n            -1.6,\\n            -1.5,\\n            -1.4,\\n            -1.3,\\n            -1.2,\\n            -1.1,\\n            -1.0,\\n            -0.9,\\n            -0.8,\\n            -0.7,\\n            -0.6,\\n            -0.5,\\n            -0.4,\\n            -0.3,\\n            -0.2,\\n            -0.1,\\n            0.0,\\n            0.1,\\n            0.2,\\n            0.3,\\n            0.4,\\n            0.5,\\n            0.6,\\n            0.7,\\n            0.8,\\n            0.9,\\n            1.0,\\n            1.1,\\n            1.2,\\n            1.3,\\n            1.4,\\n            1.5,\\n            1.6,\\n            1.7,\\n            1.8,\\n            1.9,\\n            2.0,\\n            2.1,\\n            2.2,\\n            2.3,\\n            2.4,\\n            2.5,\\n            2.6,\\n            2.7,\\n            2.8,\\n            2.9,\\n            3.0,\\n            3.1,\\n            3.2,\\n            3.3,\\n            3.4,\\n            3.5,\\n            3.6,\\n            3.7,\\n            3.8,\\n            3.9,\\n            4.0,\\n            4.1,\\n            4.2,\\n            4.3,\\n            4.4,\\n            4.5,\\n            4.6,\\n            4.7,\\n            4.8,\\n            4.9,\\n            5.0\\n        ],\\n        \\\"showlegend\\\": true,\\n        \\\"mode\\\": \\\"lines\\\",\\n        \\\"name\\\": \\\"recta secante\\\",\\n        \\\"zmin\\\": null,\\n        \\\"legendgroup\\\": \\\"recta secante\\\",\\n        \\\"zmax\\\": null,\\n        \\\"line\\\": {\\n            \\\"color\\\": \\\"rgba(0, 0, 0, 1.000)\\\",\\n            \\\"shape\\\": \\\"linear\\\",\\n            \\\"dash\\\": \\\"solid\\\",\\n            \\\"width\\\": 1\\n        },\\n        \\\"y\\\": [\\n            -11.523222361834282,\\n            -11.314501989137044,\\n            -11.105781616439804,\\n            -10.897061243742568,\\n            -10.688340871045328,\\n            -10.47962049834809,\\n            -10.270900125650854,\\n            -10.062179752953615,\\n            -9.853459380256378,\\n            -9.644739007559139,\\n            -9.4360186348619,\\n            -9.227298262164664,\\n            -9.018577889467425,\\n            -8.809857516770187,\\n            -8.601137144072949,\\n            -8.39241677137571,\\n            -8.183696398678475,\\n            -7.974976025981235,\\n            -7.766255653283997,\\n            -7.557535280586759,\\n            -7.348814907889521,\\n            -7.140094535192283,\\n            -6.931374162495044,\\n            -6.722653789797807,\\n            -6.513933417100569,\\n            -6.305213044403331,\\n            -6.096492671706092,\\n            -5.887772299008854,\\n            -5.679051926311617,\\n            -5.470331553614379,\\n            -5.261611180917141,\\n            -5.052890808219902,\\n            -4.844170435522664,\\n            -4.635450062825427,\\n            -4.426729690128189,\\n            -4.21800931743095,\\n            -4.009288944733712,\\n            -3.8005685720364744,\\n            -3.5918481993392373,\\n            -3.3831278266419984,\\n            -3.1744074539447604,\\n            -2.965687081247522,\\n            -2.7569667085502845,\\n            -2.548246335853046,\\n            -2.3395259631558085,\\n            -2.1308055904585705,\\n            -1.9220852177613321,\\n            -1.7133648450640946,\\n            -1.5046444723668562,\\n            -1.2959240996696186,\\n            -1.0872037269723802,\\n            -0.8784833542751422,\\n            -0.6697629815779043,\\n            -0.46104260888066606,\\n            -0.2523222361834281,\\n            -0.04360186348619011,\\n            0.16511850921104787,\\n            0.37383888190828585,\\n            0.582559254605524,\\n            0.791279627302762,\\n            1.0,\\n            1.2087203726972382,\\n            1.417440745394476,\\n            1.6261611180917142,\\n            1.834881490788952,\\n            2.04360186348619,\\n            2.2523222361834283,\\n            2.461042608880666,\\n            2.6697629815779043,\\n            2.878483354275142,\\n            3.08720372697238,\\n            3.2959240996696186,\\n            3.5046444723668566,\\n            3.7133648450640937,\\n            3.922085217761332,\\n            4.1308055904585705,\\n            4.3395259631558085,\\n            4.548246335853047,\\n            4.756966708550284,\\n            4.965687081247522,\\n            5.17440745394476,\\n            5.383127826641998,\\n            5.591848199339237,\\n            5.800568572036474,\\n            6.009288944733712,\\n            6.21800931743095,\\n            6.426729690128189,\\n            6.635450062825427,\\n            6.844170435522664,\\n            7.052890808219902,\\n            7.261611180917141,\\n            7.470331553614378,\\n            7.679051926311617,\\n            7.887772299008854,\\n            8.096492671706095,\\n            8.305213044403331,\\n            8.513933417100567,\\n            8.722653789797807,\\n            8.931374162495043,\\n            9.140094535192283,\\n            9.34881490788952\\n        ],\\n        \\\"type\\\": \\\"scatter\\\"\\n    },\\n    {\\n        \\\"xaxis\\\": \\\"x\\\",\\n        \\\"colorbar\\\": {\\n            \\\"title\\\": \\\"\\\"\\n        },\\n        \\\"yaxis\\\": \\\"y\\\",\\n        \\\"x\\\": [\\n            1.0,\\n            1.0872037269723804\\n        ],\\n        \\\"showlegend\\\": false,\\n        \\\"mode\\\": \\\"markers\\\",\\n        \\\"name\\\": \\\"\\\",\\n        \\\"zmin\\\": null,\\n        \\\"legendgroup\\\": \\\"\\\",\\n        \\\"marker\\\": {\\n            \\\"symbol\\\": \\\"circle\\\",\\n            \\\"color\\\": \\\"rgba(255, 165, 0, 1.000)\\\",\\n            \\\"line\\\": {\\n                \\\"color\\\": \\\"rgba(0, 0, 0, 1.000)\\\",\\n                \\\"width\\\": 1\\n            },\\n            \\\"size\\\": 10\\n        },\\n        \\\"zmax\\\": null,\\n        \\\"y\\\": [\\n            1.0,\\n            1.1820119439426344\\n        ],\\n        \\\"type\\\": \\\"scatter\\\"\\n    },\\n    {\\n        \\\"xaxis\\\": \\\"x\\\",\\n        \\\"colorbar\\\": {\\n            \\\"title\\\": \\\"\\\"\\n        },\\n        \\\"yaxis\\\": \\\"y\\\",\\n        \\\"x\\\": [\\n            1.0,\\n            1.0872037269723804,\\n            1.0872037269723804\\n        ],\\n        \\\"showlegend\\\": false,\\n        \\\"mode\\\": \\\"lines\\\",\\n        \\\"name\\\": \\\"\\\",\\n        \\\"zmin\\\": null,\\n        \\\"legendgroup\\\": \\\"\\\",\\n        \\\"zmax\\\": null,\\n        \\\"line\\\": {\\n            \\\"color\\\": \\\"rgba(77, 77, 77, 1.000)\\\",\\n            \\\"shape\\\": \\\"linear\\\",\\n            \\\"dash\\\": \\\"solid\\\",\\n            \\\"width\\\": 1\\n        },\\n        \\\"y\\\": [\\n            1.0,\\n            1.0,\\n            1.1820119439426344\\n        ],\\n        \\\"type\\\": \\\"scatter\\\"\\n    }\\n]\\n, {\\n    \\\"showlegend\\\": true,\\n    \\\"xaxis\\\": {\\n        \\\"showticklabels\\\": true,\\n        \\\"gridwidth\\\": 0.5,\\n        \\\"tickvals\\\": [\\n            -4.0,\\n            -2.0,\\n            0.0,\\n            2.0,\\n            4.0\\n        ],\\n        \\\"range\\\": [\\n            -5.3,\\n            5.3\\n        ],\\n        \\\"domain\\\": [\\n            0.05100612423447069,\\n            0.9934383202099737\\n        ],\\n        \\\"mirror\\\": false,\\n        \\\"tickangle\\\": 0,\\n        \\\"showline\\\": true,\\n        \\\"ticktext\\\": [\\n            \\\"−4\\\",\\n            \\\"−2\\\",\\n            \\\"0\\\",\\n            \\\"2\\\",\\n            \\\"4\\\"\\n        ],\\n        \\\"zeroline\\\": false,\\n        \\\"tickfont\\\": {\\n            \\\"color\\\": \\\"rgba(0, 0, 0, 1.000)\\\",\\n            \\\"family\\\": \\\"sans-serif\\\",\\n            \\\"size\\\": 11\\n        },\\n        \\\"zerolinecolor\\\": \\\"rgba(0, 0, 0, 1.000)\\\",\\n        \\\"anchor\\\": \\\"y\\\",\\n        \\\"visible\\\": true,\\n        \\\"ticks\\\": \\\"inside\\\",\\n        \\\"tickmode\\\": \\\"array\\\",\\n        \\\"linecolor\\\": \\\"rgba(0, 0, 0, 1.000)\\\",\\n        \\\"showgrid\\\": true,\\n        \\\"title\\\": \\\"\\\",\\n        \\\"gridcolor\\\": \\\"rgba(0, 0, 0, 0.100)\\\",\\n        \\\"titlefont\\\": {\\n            \\\"color\\\": \\\"rgba(0, 0, 0, 1.000)\\\",\\n            \\\"family\\\": \\\"sans-serif\\\",\\n            \\\"size\\\": 15\\n        },\\n        \\\"tickcolor\\\": \\\"rgb(0, 0, 0)\\\",\\n        \\\"type\\\": \\\"-\\\"\\n    },\\n    \\\"paper_bgcolor\\\": \\\"rgba(255, 255, 255, 1.000)\\\",\\n    \\\"annotations\\\": [\\n        {\\n            \\\"yanchor\\\": \\\"top\\\",\\n            \\\"xanchor\\\": \\\"center\\\",\\n            \\\"rotation\\\": -0.0,\\n            \\\"y\\\": 1,\\n            \\\"font\\\": {\\n                \\\"color\\\": \\\"rgba(0, 0, 0, 1.000)\\\",\\n                \\\"family\\\": \\\"sans-serif\\\",\\n                \\\"size\\\": 20\\n            },\\n            \\\"yref\\\": \\\"y\\\",\\n            \\\"showarrow\\\": false,\\n            \\\"text\\\": \\\"Δx\\\",\\n            \\\"xref\\\": \\\"x\\\",\\n            \\\"x\\\": 1.0436018634861903\\n        },\\n        {\\n            \\\"yanchor\\\": \\\"middle\\\",\\n            \\\"xanchor\\\": \\\"left\\\",\\n            \\\"rotation\\\": -0.0,\\n            \\\"y\\\": 1.0910059719713172,\\n            \\\"font\\\": {\\n                \\\"color\\\": \\\"rgba(0, 0, 0, 1.000)\\\",\\n                \\\"family\\\": \\\"sans-serif\\\",\\n                \\\"size\\\": 20\\n            },\\n            \\\"yref\\\": \\\"y\\\",\\n            \\\"showarrow\\\": false,\\n            \\\"text\\\": \\\"Δy\\\",\\n            \\\"xref\\\": \\\"x\\\",\\n            \\\"x\\\": 1.1372037269723805\\n        }\\n    ],\\n    \\\"height\\\": 400,\\n    \\\"margin\\\": {\\n        \\\"l\\\": 0,\\n        \\\"b\\\": 20,\\n        \\\"r\\\": 0,\\n        \\\"t\\\": 20\\n    },\\n    \\\"plot_bgcolor\\\": \\\"rgba(255, 255, 255, 1.000)\\\",\\n    \\\"yaxis\\\": {\\n        \\\"showticklabels\\\": true,\\n        \\\"gridwidth\\\": 0.5,\\n        \\\"tickvals\\\": [\\n            -10.0,\\n            0.0,\\n            10.0,\\n            20.0\\n        ],\\n        \\\"range\\\": [\\n            -12.61891903268931,\\n            26.095696670855027\\n        ],\\n        \\\"domain\\\": [\\n            0.03762029746281716,\\n            0.9901574803149606\\n        ],\\n        \\\"mirror\\\": false,\\n        \\\"tickangle\\\": 0,\\n        \\\"showline\\\": true,\\n        \\\"ticktext\\\": [\\n            \\\"−10\\\",\\n            \\\"0\\\",\\n            \\\"10\\\",\\n            \\\"20\\\"\\n        ],\\n        \\\"zeroline\\\": false,\\n        \\\"tickfont\\\": {\\n            \\\"color\\\": \\\"rgba(0, 0, 0, 1.000)\\\",\\n            \\\"family\\\": \\\"sans-serif\\\",\\n            \\\"size\\\": 11\\n        },\\n        \\\"zerolinecolor\\\": \\\"rgba(0, 0, 0, 1.000)\\\",\\n        \\\"anchor\\\": \\\"x\\\",\\n        \\\"visible\\\": true,\\n        \\\"ticks\\\": \\\"inside\\\",\\n        \\\"tickmode\\\": \\\"array\\\",\\n        \\\"linecolor\\\": \\\"rgba(0, 0, 0, 1.000)\\\",\\n        \\\"showgrid\\\": true,\\n        \\\"title\\\": \\\"\\\",\\n        \\\"gridcolor\\\": \\\"rgba(0, 0, 0, 0.100)\\\",\\n        \\\"titlefont\\\": {\\n            \\\"color\\\": \\\"rgba(0, 0, 0, 1.000)\\\",\\n            \\\"family\\\": \\\"sans-serif\\\",\\n            \\\"size\\\": 15\\n        },\\n        \\\"tickcolor\\\": \\\"rgb(0, 0, 0)\\\",\\n        \\\"type\\\": \\\"-\\\"\\n    },\\n    \\\"legend\\\": {\\n        \\\"yanchor\\\": \\\"auto\\\",\\n        \\\"xanchor\\\": \\\"auto\\\",\\n        \\\"bordercolor\\\": \\\"rgba(0, 0, 0, 1.000)\\\",\\n        \\\"bgcolor\\\": \\\"rgba(255, 255, 255, 1.000)\\\",\\n        \\\"borderwidth\\\": 1,\\n        \\\"tracegroupgap\\\": 0,\\n        \\\"y\\\": 1.0,\\n        \\\"font\\\": {\\n            \\\"color\\\": \\\"rgba(0, 0, 0, 1.000)\\\",\\n            \\\"family\\\": \\\"sans-serif\\\",\\n            \\\"size\\\": 11\\n        },\\n        \\\"title\\\": {\\n            \\\"font\\\": {\\n                \\\"color\\\": \\\"rgba(0, 0, 0, 1.000)\\\",\\n                \\\"family\\\": \\\"sans-serif\\\",\\n                \\\"size\\\": 15\\n            },\\n            \\\"text\\\": \\\"\\\"\\n        },\\n        \\\"traceorder\\\": \\\"normal\\\",\\n        \\\"x\\\": 1.0\\n    },\\n    \\\"width\\\": 600\\n}\\n);\\n    });\\n    <\\/script>\\n\\n    <\\/body>\\n<\\/html>\\n\"},\"nodeType\":\"DOM\",\"type\":\"node\",\"instanceArgs\":{\"namespace\":\"html\",\"tag\":\"div\"},\"children\":[]}]}}}},\"children\":[{\"props\":{},\"nodeType\":\"ObservableNode\",\"type\":\"node\",\"instanceArgs\":{\"id\":\"1483044084957229295\",\"name\":\"obs-node\"},\"children\":[]}]}]},\n",
       "            window,\n",
       "        );\n",
       "    } else {\n",
       "        document\n",
       "            .querySelector('[data-webio-mountpoint=\"9936224558974744163\"]')\n",
       "            .innerHTML = (\n",
       "                '<div style=\"padding: 1em; background-color: #f8d6da; border: 1px solid #f5c6cb\">' +\n",
       "                '<p><strong>WebIO not detected.</strong></p>' +\n",
       "                '<p>Please read ' +\n",
       "                '<a href=\"https://juliagizmos.github.io/WebIO.jl/latest/troubleshooting/not-detected/\" target=\"_blank\">the troubleshooting guide</a> ' +\n",
       "                'for more information on how to resolve this issue.</p>' +\n",
       "                '<p><a href=\"https://juliagizmos.github.io/WebIO.jl/latest/troubleshooting/not-detected/\" target=\"_blank\">https://juliagizmos.github.io/WebIO.jl/latest/troubleshooting/not-detected/</a></p>' +\n",
       "                '</div>'\n",
       "            );\n",
       "    }\n",
       "    </script>\n",
       "</div>\n"
      ],
      "text/plain": [
       "Node{WebIO.DOM}(WebIO.DOM(:html, :div), Any[Node{WebIO.DOM}(WebIO.DOM(:html, :div), Any[Scope(Node{WebIO.DOM}(WebIO.DOM(:html, :div), Any[Node{WebIO.DOM}(WebIO.DOM(:html, :div), Any[Node{WebIO.DOM}(WebIO.DOM(:html, :label), Any[\"n\"], Dict{Symbol, Any}(:className => \"interact \", :style => Dict{Any, Any}(:padding => \"5px 10px 0px 10px\")))], Dict{Symbol, Any}(:className => \"interact-flex-row-left\")), Node{WebIO.DOM}(WebIO.DOM(:html, :div), Any[Node{WebIO.DOM}(WebIO.DOM(:html, :input), Any[], Dict{Symbol, Any}(:max => 100, :min => 1, :attributes => Dict{Any, Any}(:type => \"range\", Symbol(\"data-bind\") => \"numericValue: index, valueUpdate: 'input', event: {change: function (){this.changes(this.changes()+1)}}\", \"orient\" => \"horizontal\"), :step => 1, :className => \"slider slider is-fullwidth\", :style => Dict{Any, Any}()))], Dict{Symbol, Any}(:className => \"interact-flex-row-center\")), Node{WebIO.DOM}(WebIO.DOM(:html, :div), Any[Node{WebIO.DOM}(WebIO.DOM(:html, :p), Any[], Dict{Symbol, Any}(:attributes => Dict(\"data-bind\" => \"text: formatted_val\")))], Dict{Symbol, Any}(:className => \"interact-flex-row-right\"))], Dict{Symbol, Any}(:className => \"interact-flex-row interact-widget\")), Dict{String, Tuple{Observables.AbstractObservable, Union{Nothing, Bool}}}(\"changes\" => (Observable{Int64} with 1 listeners. Value:\n",
       "0, nothing), \"index\" => (Observable{Int64} with 2 listeners. Value:\n",
       "50, nothing)), Set{String}(), nothing, Asset[Asset(\"js\", \"knockout\", \"/home/jotape/.julia/packages/Knockout/IP1uR/src/../assets/knockout.js\"), Asset(\"js\", \"knockout_punches\", \"/home/jotape/.julia/packages/Knockout/IP1uR/src/../assets/knockout_punches.js\"), Asset(\"js\", nothing, \"/home/jotape/.julia/packages/InteractBase/Zfu5P/src/../assets/all.js\"), Asset(\"css\", nothing, \"/home/jotape/.julia/packages/InteractBase/Zfu5P/src/../assets/style.css\"), Asset(\"css\", nothing, \"/home/jotape/.julia/packages/Interact/SbgIk/src/../assets/bulma_confined.min.css\")], Dict{Any, Any}(\"changes\" => Any[WebIO.JSString(\"(function (val){return (val!=this.model[\\\"changes\\\"]()) ? (this.valueFromJulia[\\\"changes\\\"]=true, this.model[\\\"changes\\\"](val)) : undefined})\")], \"index\" => Any[WebIO.JSString(\"(function (val){return (val!=this.model[\\\"index\\\"]()) ? (this.valueFromJulia[\\\"index\\\"]=true, this.model[\\\"index\\\"](val)) : undefined})\")]), WebIO.ConnectionPool(Channel{Any}(32), Set{AbstractConnection}(), Condition(Base.InvasiveLinkedList{Task}(Task (runnable) @0x00007feb2d6ac2b0, Task (runnable) @0x00007feb2d6ac2b0), Base.AlwaysLockedST(1))), WebIO.JSString[WebIO.JSString(\"function () {\\n    var handler = (function (ko, koPunches) {\\n    ko.punches.enableAll();\\n    ko.bindingHandlers.numericValue = {\\n        init: function(element, valueAccessor, allBindings, data, context) {\\n            var stringified = ko.observable(ko.unwrap(valueAccessor()));\\n            stringified.subscribe(function(value) {\\n                var val = parseFloat(value);\\n                if (!isNaN(val)) {\\n                    valueAccessor()(val);\\n                }\\n            });\\n            valueAccessor().subscribe(function(value) {\\n                var str = JSON.stringify(value);\\n                if ((str == \\\"0\\\") && ([\\\"-0\\\", \\\"-0.\\\"].indexOf(stringified()) >= 0))\\n                     return;\\n                 if ([\\\"null\\\", \\\"\\\"].indexOf(str) >= 0)\\n                     return;\\n                stringified(str);\\n            });\\n            ko.applyBindingsToNode(\\n                element,\\n                {\\n                    value: stringified,\\n                    valueUpdate: allBindings.get('valueUpdate'),\\n                },\\n                context,\\n            );\\n        }\\n    };\\n    var json_data = {\\\"formatted_vals\\\":[\\\"1\\\",\\\"2\\\",\\\"3\\\",\\\"4\\\",\\\"5\\\",\\\"6\\\",\\\"7\\\",\\\"8\\\",\\\"9\\\",\\\"10\\\",\\\"11\\\",\\\"12\\\",\\\"13\\\",\\\"14\\\",\\\"15\\\",\\\"16\\\",\\\"17\\\",\\\"18\\\",\\\"19\\\",\\\"20\\\",\\\"21\\\",\\\"22\\\",\\\"23\\\",\\\"24\\\",\\\"25\\\",\\\"26\\\",\\\"27\\\",\\\"28\\\",\\\"29\\\",\\\"30\\\",\\\"31\\\",\\\"32\\\",\\\"33\\\",\\\"34\\\",\\\"35\\\",\\\"36\\\",\\\"37\\\",\\\"38\\\",\\\"39\\\",\\\"40\\\",\\\"41\\\",\\\"42\\\",\\\"43\\\",\\\"44\\\",\\\"45\\\",\\\"46\\\",\\\"47\\\",\\\"48\\\",\\\"49\\\",\\\"50\\\",\\\"51\\\",\\\"52\\\",\\\"53\\\",\\\"54\\\",\\\"55\\\",\\\"56\\\",\\\"57\\\",\\\"58\\\",\\\"59\\\",\\\"60\\\",\\\"61\\\",\\\"62\\\",\\\"63\\\",\\\"64\\\",\\\"65\\\",\\\"66\\\",\\\"67\\\",\\\"68\\\",\\\"69\\\",\\\"70\\\",\\\"71\\\",\\\"72\\\",\\\"73\\\",\\\"74\\\",\\\"75\\\",\\\"76\\\",\\\"77\\\",\\\"78\\\",\\\"79\\\",\\\"80\\\",\\\"81\\\",\\\"82\\\",\\\"83\\\",\\\"84\\\",\\\"85\\\",\\\"86\\\",\\\"87\\\",\\\"88\\\",\\\"89\\\",\\\"90\\\",\\\"91\\\",\\\"92\\\",\\\"93\\\",\\\"94\\\",\\\"95\\\",\\\"96\\\",\\\"97\\\",\\\"98\\\",\\\"99\\\",\\\"100\\\"],\\\"changes\\\":WebIO.getval({\\\"name\\\":\\\"changes\\\",\\\"scope\\\":\\\"6934385659539332813\\\",\\\"id\\\":\\\"12927197547047789410\\\",\\\"type\\\":\\\"observable\\\"}),\\\"index\\\":WebIO.getval({\\\"name\\\":\\\"index\\\",\\\"scope\\\":\\\"6934385659539332813\\\",\\\"id\\\":\\\"13863579456147490255\\\",\\\"type\\\":\\\"observable\\\"})};\\n    var self = this;\\n    function AppViewModel() {\\n        for (var key in json_data) {\\n            var el = json_data[key];\\n            this[key] = Array.isArray(el) ? ko.observableArray(el) : ko.observable(el);\\n        }\\n        \\n        [this[\\\"formatted_val\\\"]=ko.computed(    function(){\\n        return this.formatted_vals()[parseInt(this.index())-(1)];\\n    }\\n,this)]\\n        [this[\\\"changes\\\"].subscribe((function (val){!(this.valueFromJulia[\\\"changes\\\"]) ? (WebIO.setval({\\\"name\\\":\\\"changes\\\",\\\"scope\\\":\\\"6934385659539332813\\\",\\\"id\\\":\\\"12927197547047789410\\\",\\\"type\\\":\\\"observable\\\"},val)) : undefined; return this.valueFromJulia[\\\"changes\\\"]=false}),self),this[\\\"index\\\"].subscribe((function (val){!(this.valueFromJulia[\\\"index\\\"]) ? (WebIO.setval({\\\"name\\\":\\\"index\\\",\\\"scope\\\":\\\"6934385659539332813\\\",\\\"id\\\":\\\"13863579456147490255\\\",\\\"type\\\":\\\"observable\\\"},val)) : undefined; return this.valueFromJulia[\\\"index\\\"]=false}),self)]\\n        \\n    }\\n    self.model = new AppViewModel();\\n    self.valueFromJulia = {};\\n    for (var key in json_data) {\\n        self.valueFromJulia[key] = false;\\n    }\\n    ko.applyBindings(self.model, self.dom);\\n}\\n);\\n    (WebIO.importBlock({\\\"data\\\":[{\\\"name\\\":\\\"knockout\\\",\\\"type\\\":\\\"js\\\",\\\"url\\\":\\\"/assetserver/a963c1b8a7754895043656177cb77e7b7fec989e-knockout.js\\\"},{\\\"name\\\":\\\"knockout_punches\\\",\\\"type\\\":\\\"js\\\",\\\"url\\\":\\\"/assetserver/d3553359b4c867bd6d9c495fad85bc715d024ca7-knockout_punches.js\\\"}],\\\"type\\\":\\\"async_block\\\"})).then((imports) => handler.apply(this, imports));\\n}\\n\")])], Dict{Symbol, Any}(:className => \"field interact-widget\")), Observable{Any} with 0 listeners. Value:\n",
       "Node{WebIO.DOM}(WebIO.DOM(:html, :div), Any[Plot{Plots.PlotlyBackend() n=5}], Dict{Symbol, Any}(:className => \"interact-flex-row interact-widget\"))], Dict{Symbol, Any}())"
      ]
     },
     "execution_count": 29,
     "metadata": {
      "application/vnd.webio.node+json": {
       "kernelId": "fb196639-73a2-46f0-bc5e-2b0c75f469c5"
      }
     },
     "output_type": "execute_result"
    }
   ],
   "source": [
    "@manipulate for n = 1:100\n",
    "\n",
    "    fig_size=(600, 400)\n",
    "\t\tf(x) = x^2 #Solo miren esta línea,es donde digo que funcion quiero trabajar\n",
    "\t\tc = 1\n",
    "\t\th = 1.05^(-n) \n",
    "\t\tm = (f(c+h) - f(c))/h\n",
    "\t\txs = collect(-5:0.1:5)\n",
    "\t\tplt = plot(f, -5, 5, size=fig_size,lab=\"función\")\n",
    "\t\tplot!(plt, xs, f(c) .+ 2(c)*(xs .- c), color=:orange,lab=\"recta tangente\")\n",
    "\t\tplot!(plt, xs, f(c) .+ m*(xs .- c), color=:black,lab=\"recta secante\")\n",
    "\t\tscatter!(plt, [c,c+h], [f(c), f(c+h)], color=:orange, markersize=5,lab=\"\")\n",
    "\n",
    "\t\tplot!(plt, [c, c+h, c+h], [f(c), f(c), f(c+h)], color=:gray30,lab=\"\")\n",
    "\t\tannotate!(plt, [(c+h/2, f(c), text(\"Δx\", :top)), (c + h + .05, (f(c) + f(c + h))/2, text(\"Δy\", :left))],lab=\"\")\n",
    "\n",
    "\t\tplt\n",
    "\t\n",
    "end"
   ]
  },
  {
   "cell_type": "code",
   "execution_count": null,
   "id": "61603fbb",
   "metadata": {},
   "outputs": [],
   "source": []
  }
 ],
 "metadata": {
  "@webio": {
   "lastCommId": "90c5836a05f9497b8f7e5313f76d52e9",
   "lastKernelId": "fb196639-73a2-46f0-bc5e-2b0c75f469c5"
  },
  "kernelspec": {
   "display_name": "Julia 1.6.0",
   "language": "julia",
   "name": "julia-1.6"
  },
  "language_info": {
   "file_extension": ".jl",
   "mimetype": "application/julia",
   "name": "julia",
   "version": "1.6.0"
  }
 },
 "nbformat": 4,
 "nbformat_minor": 5
}
